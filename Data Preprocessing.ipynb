{
 "cells": [
  {
   "cell_type": "code",
   "execution_count": 5,
   "metadata": {},
   "outputs": [],
   "source": [
    "#Steve Branch\n",
    "\n",
    "import pandas as pd\n",
    "import numpy as np"
   ]
  },
  {
   "cell_type": "code",
   "execution_count": 24,
   "outputs": [
    {
     "name": "stdout",
     "output_type": "stream",
     "text": [
      "  column_id                                           question\n",
      "0         A                             Are you self-employed?\n",
      "1         B  How many employees does your company or organi...\n",
      "2         C  Is your employer primarily a tech company/orga...\n",
      "3         D  Is your primary role within your company relat...\n",
      "4         E  Does your employer provide mental health benef...\n",
      "5         F  Do you know the options for mental health care...\n",
      "6         G  Has your employer ever formally discussed ment...\n",
      "7         H  Does your employer offer resources to learn mo...\n",
      "8         I  Is your anonymity protected if you choose to t...\n",
      "9         J  If a mental health issue prompted you to reque...\n"
     ]
    }
   ],
   "source": [
    "#Load the data file\n",
    "mental_health_data_filename = 'mental_health_data_true.csv'\n",
    "mental_health_df= pd.read_csv(mental_health_data_filename)\n",
    "\n",
    "question_cross_ref_filename = 'mental_health_header_cross_ref.csv'\n",
    "question_cross_ref_df = pd.read_csv(question_cross_ref_filename)"
   ],
   "metadata": {
    "collapsed": false,
    "pycharm": {
     "name": "#%%\n"
    }
   }
  },
  {
   "cell_type": "code",
   "execution_count": null,
   "outputs": [],
   "source": [
    "# Remove Self Employed Records from the Data\n",
    "\n",
    "# Two ways to do this: Method 1:\n",
    "# Set the Dataframe equal to record where data['A'] == 0\n",
    "# data = data[data['A'] == 0]\n",
    "# data.shape\n",
    "\n",
    "# Method 2:\n",
    "# Actually drop the records from the data frame using frop\n",
    "mental_health_df.drop(mental_health_df[mental_health_df['A'] == 1].index, inplace = True)\n",
    "mental_health_df.shape"
   ],
   "metadata": {
    "collapsed": false,
    "pycharm": {
     "name": "#%%\n"
    }
   }
  },
  {
   "cell_type": "code",
   "execution_count": 8,
   "metadata": {},
   "outputs": [],
   "source": [
    "#Drop columns"
   ]
  },
  {
   "cell_type": "code",
   "execution_count": 9,
   "metadata": {},
   "outputs": [],
   "source": [
    "#Combine WW and XX"
   ]
  },
  {
   "cell_type": "code",
   "execution_count": 10,
   "metadata": {},
   "outputs": [],
   "source": [
    "#Column XX and WW missing values"
   ]
  },
  {
   "cell_type": "code",
   "execution_count": 11,
   "metadata": {},
   "outputs": [],
   "source": [
    "#Column XX. WW, ZZ codify non-standard values as other"
   ]
  },
  {
   "cell_type": "code",
   "execution_count": 12,
   "metadata": {},
   "outputs": [],
   "source": [
    "#Replace General Missing Values"
   ]
  },
  {
   "cell_type": "code",
   "execution_count": 13,
   "metadata": {},
   "outputs": [],
   "source": [
    "#Handle Gender Somehow"
   ]
  },
  {
   "cell_type": "code",
   "execution_count": 14,
   "metadata": {},
   "outputs": [],
   "source": [
    "#Age Outliers"
   ]
  },
  {
   "cell_type": "code",
   "execution_count": 15,
   "metadata": {},
   "outputs": [],
   "source": [
    "#Encode yes,no,ect values "
   ]
  },
  {
   "cell_type": "code",
   "execution_count": 15,
   "metadata": {},
   "outputs": [],
   "source": [
    "# TODO: We probably should write the data to a clean csv file\n",
    "# DO NOT OVER WRITE EXISTING CSV, it should be written to a new file\n"
   ]
  }
 ],
 "metadata": {
  "kernelspec": {
   "display_name": "Python 3",
   "language": "python",
   "name": "python3"
  },
  "language_info": {
   "codemirror_mode": {
    "name": "ipython",
    "version": 3
   },
   "file_extension": ".py",
   "mimetype": "text/x-python",
   "name": "python",
   "nbconvert_exporter": "python",
   "pygments_lexer": "ipython3",
   "version": "3.7.4"
  }
 },
 "nbformat": 4,
 "nbformat_minor": 2
}