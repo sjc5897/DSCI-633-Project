{
 "cells": [
  {
   "cell_type": "code",
   "execution_count": 21,
   "metadata": {
    "pycharm": {
     "name": "#%%\n"
    }
   },
   "outputs": [],
   "source": [
    "\"\"\"\n",
    "DSCI-663-03 Project: Data Preprocessing File\n",
    "This file preforms some of our discrete preprocessing tasks for our ML\n",
    "\n",
    ":language:      Python with pandas\n",
    ":author:        Stephen Cook\n",
    ":author:        Cory Maclauchlan\n",
    ":author:        Robert Gentilucci\n",
    ":author:        Julia Okvath\n",
    ":date created:  10/18/21\n",
    ":last edit:     11/05/21\n",
    "\"\"\"\n",
    "# import pandas and numpy\n",
    "import pandas as pd\n",
    "import numpy as np"
   ]
  },
  {
   "cell_type": "code",
   "execution_count": 22,
   "metadata": {
    "pycharm": {
     "name": "#%%\n"
    }
   },
   "outputs": [],
   "source": [
    "# Task 1: Load in the data file, mental_health_data.csv\n",
    "mental_health_data_filename = 'mental_health_data.csv'\n",
    "mental_health_df= pd.read_csv(mental_health_data_filename)"
   ]
  },
  {
   "cell_type": "code",
   "execution_count": 23,
   "metadata": {
    "pycharm": {
     "name": "#%%\n"
    }
   },
   "outputs": [],
   "source": [
    "# Task 2: Drop all records for self employed people\n",
    "# This was done because self-employed respondents are irrelevant to our questions\n",
    "mental_health_df.drop(mental_health_df[mental_health_df['A'] == 1].index, inplace = True)\n"
   ]
  },
  {
   "cell_type": "code",
   "execution_count": 24,
   "metadata": {},
   "outputs": [],
   "source": [
    "\n",
    "# Task 3: Preform Feature Subset Selection by filtering out irrelevant columns\n",
    "mental_health_df = mental_health_df.drop(columns = ['T','Q', 'R', 'S', 'U', 'V', 'W', 'X', 'A', 'D', 'LL',\n",
    "                                                    'NN', 'WW', 'XX', 'ZZ', 'JJJ', 'GGG', 'III', 'KK','FF','C', 'Y','Z',\n",
    "                                                    'AA','BB','CC','EE','GG','HH','II','JJ'])\n",
    "\n",
    "# Note: Due to issues with the columns in our algorithm, the aggregation of the mental health column has been\n",
    "# put on the backburner, currently the columns are dropped, this may change so the code has been left\n",
    "#\n",
    "#\n",
    "# #Combine WW and XX\n",
    "# mental_health_df['WW'] = np.where(mental_health_df['WW'] != mental_health_df['WW'], mental_health_df['XX'], mental_health_df['WW'])\n",
    "#\n",
    "# #Drop column XX now that is is combined\n",
    "# mental_health_df = mental_health_df.drop(columns = ['XX'])\n",
    "#\n",
    "# #Handle updated column WW missing values\n",
    "# #if no value due to \"no\" entered beforehand:\n",
    "# mental_health_df['WW'] = np.where((mental_health_df['WW'] != mental_health_df['WW']) & (mental_health_df['VV'] == 'No'), 'N/A', mental_health_df['WW'])\n",
    "# #if no value because skipped:\n",
    "# mental_health_df['WW'] = np.where(mental_health_df['WW'] != mental_health_df['WW'], 'None', mental_health_df['WW'])\n",
    "#\n",
    "# #Column XX, WW, ZZ codify non-standard values as other\n",
    "# answerString = ('Anxiety Disorder (Generalized, Social, Phobia, etc); Mood Disorder (Depression, Bipolar Disorder, etc); Psychotic Disorder (Schizophrenia, Schizoaffective, etc); Eating Disorder (Anorexia, Bulimia, etc); Attention Deficit Hyperactivity Disorder; Personality Disorder (Borderline, Antisocial, Paranoid, etc); Obsessive-Compulsive Disorder; Post-traumatic Stress Disorder; Stress Response Syndromes; Dissociative Disorder; Substance Use Disorder; Addictive Disorder; Other; N/A; None')\n",
    "# answerList = answerString.split('; ')\n",
    "#\n",
    "# def replacement(col):\n",
    "#     colList = col.split('|')\n",
    "#\n",
    "#     for item in range(len(colList)):\n",
    "#         if colList[item] in answerList:\n",
    "#             colList[item] = colList[item]\n",
    "#         else:\n",
    "#             colList[item] = 'Other'\n",
    "#\n",
    "#     return '|'.join(colList)\n",
    "#\n",
    "# mental_health_df['WW'] = mental_health_df['WW'].apply(replacement)\n",
    "#\n",
    "#\n",
    "# #Need to replace Nan values in col ZZ before running the \"replacement\" function\n",
    "# #if no value due to \"no\" entered beforehand:\n",
    "# mental_health_df['ZZ'] = np.where((mental_health_df['ZZ'] != mental_health_df['ZZ']) & (mental_health_df['YY'] == 'No'), 'N/A', mental_health_df['ZZ'])\n",
    "# #if no value because skipped:\n",
    "# mental_health_df['ZZ'] = np.where(mental_health_df['ZZ'] != mental_health_df['ZZ'], 'None', mental_health_df['ZZ'])\n",
    "#\n",
    "# mental_health_df['ZZ'] = mental_health_df['ZZ'].apply(replacement)"
   ]
  },
  {
   "cell_type": "code",
   "execution_count": 25,
   "metadata": {
    "pycharm": {
     "name": "#%%\n"
    }
   },
   "outputs": [],
   "source": [
    "## Task 4: Replace General Missing Values\n",
    "\n",
    "no_Entry = {'SS': 'No Entry', 'GGG': 'No Entry', 'III': 'No Entry', 'EEE': 'No Entry', 'RR': 'No Entry', 'F': 'No Entry'}\n",
    "mental_health_df = mental_health_df.fillna(value = no_Entry)\n",
    "\n",
    "not_App = {'Z': 'Not Applicable', 'AA': 'Not Applicable', 'BB': 'Not Applicable','CC': 'Not Applicable','DD': 'Not Applicable','EE': 'Not Applicable', 'FF': 'Not Applicable','GG': 'Not Applicable', 'HH': 'Not Applicable', 'II': 'Not Applicable', 'JJ': 'Not Applicable', 'Y': 'Not Applicable'}\n",
    "mental_health_df = mental_health_df.fillna(value = not_App)\n",
    "\n",
    "# Noted special case, This value is set to 0 instead of what nan\n",
    "mental_health_df.at[183, 'GG'] = 'Not Applicable'"
   ]
  },
  {
   "cell_type": "code",
   "execution_count": 26,
   "metadata": {
    "pycharm": {
     "name": "#%%\n"
    }
   },
   "outputs": [],
   "source": [
    "# Task 5: Standardize the Gender Responses, as they were free response.\n",
    "\n",
    "# Var for the gender column ID\n",
    "gender_col_id = \"EEE\"\n",
    "\n",
    "# for this method to work better, strip leading and ending whitespace\n",
    "mental_health_df[gender_col_id] = mental_health_df[gender_col_id].str.strip()\n",
    "\n",
    "# regex explanation:\n",
    "# (?i) - case insensitive, looks for female or woman or f\n",
    "female_regex_pattern = r'(?i).*(female|woman|f).*'\n",
    "\n",
    "# regex explanation:\n",
    "# (?i) - case insensitive, looks for male or man or m\n",
    "male_regex_pattern = r'(?i).*(male|man|m).*'\n",
    "\n",
    "# regex explanation:\n",
    "# any value, not F or M gets O\n",
    "other_regex_pattern = r'^(?!M).*^(?!F).*'\n",
    "\n",
    "# replace female\n",
    "mental_health_df[gender_col_id].replace(to_replace=female_regex_pattern, value = 'F',\n",
    "                                        inplace = True, regex= True)\n",
    "# replace male\n",
    "mental_health_df[gender_col_id].replace(to_replace=male_regex_pattern, value = 'M',\n",
    "                                        inplace = True, regex= True)\n",
    "\n",
    "# replace other\n",
    "mental_health_df[gender_col_id].replace(to_replace=other_regex_pattern, value = 'O',\n",
    "                                        inplace = True, regex= True)\n",
    "\n",
    "#fill na spaces with other.\n",
    "mental_health_df[gender_col_id] = mental_health_df[gender_col_id].fillna(value=\"O\")# This var makes my life a little easier"
   ]
  },
  {
   "cell_type": "code",
   "execution_count": 27,
   "metadata": {
    "pycharm": {
     "name": "#%%\n"
    }
   },
   "outputs": [],
   "source": [
    "# Task 6: Manage Age Outliers\n",
    "\n",
    "# Find IQR of age group for removal of extreme outliers\n",
    "Q1 = mental_health_df['DDD'].quantile(.25)\n",
    "Q3 = mental_health_df['DDD'].quantile(.75)\n",
    "IQR = Q3-Q1\n",
    "\n",
    "# Remove extreme outliers in the age column\n",
    "# Note IQR is used for upper bound; however, IQR is invalid for lowered as it would be negative. we use 15\n",
    "mental_health_df.drop(mental_health_df[(mental_health_df['DDD'] > Q3+6*IQR)\n",
    "                                       | (mental_health_df['DDD'] < 15)].index, axis = 0, inplace=True)"
   ]
  },
  {
   "cell_type": "code",
   "execution_count": 28,
   "metadata": {
    "pycharm": {
     "name": "#%%\n"
    }
   },
   "outputs": [],
   "source": [
    "# Task 7: Discretize age data\n",
    "\n",
    "mental_health_df['DDD'] = pd.cut(mental_health_df[\"DDD\"], bins=[0, 25, 35, 45, 100],\n",
    "                                 labels=[\">25\", \"25-35\", \"36-45\", \"45<\"])\n",
    "\n"
   ]
  },
  {
   "cell_type": "code",
   "execution_count": 29,
   "metadata": {
    "pycharm": {
     "name": "#%%\n"
    }
   },
   "outputs": [],
   "source": [
    "# Task 8: Cast all binary columns to boolean type, this caused issues in Apriori\n",
    "mental_health_df['AAA'] = mental_health_df['AAA'].astype('bool')"
   ]
  },
  {
   "cell_type": "code",
   "execution_count": 30,
   "metadata": {
    "pycharm": {
     "name": "#%%\n"
    }
   },
   "outputs": [],
   "source": [
    "# Task 9: print the cleaned file to csv\n",
    "mental_health_df.to_csv('mental_health_CLEAN.csv', index=False, quoting=1)\n",
    "\n"
   ]
  }
 ],
 "metadata": {
  "kernelspec": {
   "display_name": "Python 3 (ipykernel)",
   "language": "python",
   "name": "python3"
  },
  "language_info": {
   "codemirror_mode": {
    "name": "ipython",
    "version": 3
   },
   "file_extension": ".py",
   "mimetype": "text/x-python",
   "name": "python",
   "nbconvert_exporter": "python",
   "pygments_lexer": "ipython3",
   "version": "3.8.8"
  }
 },
 "nbformat": 4,
 "nbformat_minor": 2
}