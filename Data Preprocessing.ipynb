{
 "cells": [
  {
   "cell_type": "code",
   "execution_count": 5,
   "metadata": {},
   "outputs": [],
   "source": [
    "#Steve Branch\n",
    "\n",
    "import pandas as pd\n",
    "import numpy as np"
   ]
  },
  {
   "cell_type": "code",
   "execution_count": 6,
   "outputs": [
    {
     "data": {
      "text/plain": "   A               B    C    D                                E  \\\n0  0          26-100  1.0  NaN  Not eligible for coverage / N/A   \n1  0            6-25  1.0  NaN                               No   \n2  0            6-25  1.0  NaN                               No   \n3  1             NaN  NaN  NaN                              NaN   \n4  0            6-25  0.0  1.0                              Yes   \n5  0  More than 1000  1.0  NaN                              Yes   \n6  0          26-100  1.0  NaN                     I don't know   \n7  0  More than 1000  1.0  NaN                              Yes   \n8  0          26-100  0.0  1.0                     I don't know   \n9  1             NaN  NaN  NaN                              NaN   \n\n               F    G    H             I                           J  ...  \\\n0            NaN   No   No  I don't know                   Very easy  ...   \n1            Yes  Yes  Yes           Yes               Somewhat easy  ...   \n2            NaN   No   No  I don't know  Neither easy nor difficult  ...   \n3            NaN  NaN  NaN           NaN                         NaN  ...   \n4            Yes   No   No            No  Neither easy nor difficult  ...   \n5  I am not sure   No  Yes           Yes               Somewhat easy  ...   \n6             No   No   No  I don't know               Somewhat easy  ...   \n7            Yes   No  Yes           Yes                   Very easy  ...   \n8             No   No   No  I don't know              Very difficult  ...   \n9            NaN  NaN  NaN           NaN                         NaN  ...   \n\n                    BBB                   CCC DDD     EEE  \\\n0  Not applicable to me  Not applicable to me  39    Male   \n1                Rarely             Sometimes  29    male   \n2  Not applicable to me  Not applicable to me  38   Male    \n3             Sometimes             Sometimes  43    male   \n4             Sometimes             Sometimes  43  Female   \n5  Not applicable to me                 Often  42    Male   \n6  Not applicable to me  Not applicable to me  30       M   \n7             Sometimes                 Often  37  female   \n8                Rarely                 Often  44  Female   \n9                Rarely                 Often  30    Male   \n\n                        FFF         GGG                       HHH         III  \\\n0            United Kingdom         NaN            United Kingdom         NaN   \n1  United States of America    Illinois  United States of America    Illinois   \n2            United Kingdom         NaN            United Kingdom         NaN   \n3            United Kingdom         NaN            United Kingdom         NaN   \n4  United States of America    Illinois  United States of America    Illinois   \n5            United Kingdom         NaN            United Kingdom         NaN   \n6  United States of America   Tennessee  United States of America   Tennessee   \n7  United States of America    Virginia  United States of America    Virginia   \n8  United States of America  California  United States of America  California   \n9  United States of America    Kentucky  United States of America    Kentucky   \n\n                                                 JJJ        LLL  \n0                                 Back-end Developer  Sometimes  \n1             Back-end Developer|Front-end Developer      Never  \n2                                 Back-end Developer     Always  \n3                               Supervisor/Team Lead  Sometimes  \n4  Executive Leadership|Supervisor/Team Lead|Dev ...  Sometimes  \n5  DevOps/SysAdmin|Support|Back-end Developer|Fro...  Sometimes  \n6                                 Back-end Developer  Sometimes  \n7         Dev Evangelist/Advocate|Back-end Developer     Always  \n8         Support|Back-end Developer|One-person shop  Sometimes  \n9  One-person shop|Front-end Developer|Back-end D...     Always  \n\n[10 rows x 63 columns]",
      "text/html": "<div>\n<style scoped>\n    .dataframe tbody tr th:only-of-type {\n        vertical-align: middle;\n    }\n\n    .dataframe tbody tr th {\n        vertical-align: top;\n    }\n\n    .dataframe thead th {\n        text-align: right;\n    }\n</style>\n<table border=\"1\" class=\"dataframe\">\n  <thead>\n    <tr style=\"text-align: right;\">\n      <th></th>\n      <th>A</th>\n      <th>B</th>\n      <th>C</th>\n      <th>D</th>\n      <th>E</th>\n      <th>F</th>\n      <th>G</th>\n      <th>H</th>\n      <th>I</th>\n      <th>J</th>\n      <th>...</th>\n      <th>BBB</th>\n      <th>CCC</th>\n      <th>DDD</th>\n      <th>EEE</th>\n      <th>FFF</th>\n      <th>GGG</th>\n      <th>HHH</th>\n      <th>III</th>\n      <th>JJJ</th>\n      <th>LLL</th>\n    </tr>\n  </thead>\n  <tbody>\n    <tr>\n      <th>0</th>\n      <td>0</td>\n      <td>26-100</td>\n      <td>1.0</td>\n      <td>NaN</td>\n      <td>Not eligible for coverage / N/A</td>\n      <td>NaN</td>\n      <td>No</td>\n      <td>No</td>\n      <td>I don't know</td>\n      <td>Very easy</td>\n      <td>...</td>\n      <td>Not applicable to me</td>\n      <td>Not applicable to me</td>\n      <td>39</td>\n      <td>Male</td>\n      <td>United Kingdom</td>\n      <td>NaN</td>\n      <td>United Kingdom</td>\n      <td>NaN</td>\n      <td>Back-end Developer</td>\n      <td>Sometimes</td>\n    </tr>\n    <tr>\n      <th>1</th>\n      <td>0</td>\n      <td>6-25</td>\n      <td>1.0</td>\n      <td>NaN</td>\n      <td>No</td>\n      <td>Yes</td>\n      <td>Yes</td>\n      <td>Yes</td>\n      <td>Yes</td>\n      <td>Somewhat easy</td>\n      <td>...</td>\n      <td>Rarely</td>\n      <td>Sometimes</td>\n      <td>29</td>\n      <td>male</td>\n      <td>United States of America</td>\n      <td>Illinois</td>\n      <td>United States of America</td>\n      <td>Illinois</td>\n      <td>Back-end Developer|Front-end Developer</td>\n      <td>Never</td>\n    </tr>\n    <tr>\n      <th>2</th>\n      <td>0</td>\n      <td>6-25</td>\n      <td>1.0</td>\n      <td>NaN</td>\n      <td>No</td>\n      <td>NaN</td>\n      <td>No</td>\n      <td>No</td>\n      <td>I don't know</td>\n      <td>Neither easy nor difficult</td>\n      <td>...</td>\n      <td>Not applicable to me</td>\n      <td>Not applicable to me</td>\n      <td>38</td>\n      <td>Male</td>\n      <td>United Kingdom</td>\n      <td>NaN</td>\n      <td>United Kingdom</td>\n      <td>NaN</td>\n      <td>Back-end Developer</td>\n      <td>Always</td>\n    </tr>\n    <tr>\n      <th>3</th>\n      <td>1</td>\n      <td>NaN</td>\n      <td>NaN</td>\n      <td>NaN</td>\n      <td>NaN</td>\n      <td>NaN</td>\n      <td>NaN</td>\n      <td>NaN</td>\n      <td>NaN</td>\n      <td>NaN</td>\n      <td>...</td>\n      <td>Sometimes</td>\n      <td>Sometimes</td>\n      <td>43</td>\n      <td>male</td>\n      <td>United Kingdom</td>\n      <td>NaN</td>\n      <td>United Kingdom</td>\n      <td>NaN</td>\n      <td>Supervisor/Team Lead</td>\n      <td>Sometimes</td>\n    </tr>\n    <tr>\n      <th>4</th>\n      <td>0</td>\n      <td>6-25</td>\n      <td>0.0</td>\n      <td>1.0</td>\n      <td>Yes</td>\n      <td>Yes</td>\n      <td>No</td>\n      <td>No</td>\n      <td>No</td>\n      <td>Neither easy nor difficult</td>\n      <td>...</td>\n      <td>Sometimes</td>\n      <td>Sometimes</td>\n      <td>43</td>\n      <td>Female</td>\n      <td>United States of America</td>\n      <td>Illinois</td>\n      <td>United States of America</td>\n      <td>Illinois</td>\n      <td>Executive Leadership|Supervisor/Team Lead|Dev ...</td>\n      <td>Sometimes</td>\n    </tr>\n    <tr>\n      <th>5</th>\n      <td>0</td>\n      <td>More than 1000</td>\n      <td>1.0</td>\n      <td>NaN</td>\n      <td>Yes</td>\n      <td>I am not sure</td>\n      <td>No</td>\n      <td>Yes</td>\n      <td>Yes</td>\n      <td>Somewhat easy</td>\n      <td>...</td>\n      <td>Not applicable to me</td>\n      <td>Often</td>\n      <td>42</td>\n      <td>Male</td>\n      <td>United Kingdom</td>\n      <td>NaN</td>\n      <td>United Kingdom</td>\n      <td>NaN</td>\n      <td>DevOps/SysAdmin|Support|Back-end Developer|Fro...</td>\n      <td>Sometimes</td>\n    </tr>\n    <tr>\n      <th>6</th>\n      <td>0</td>\n      <td>26-100</td>\n      <td>1.0</td>\n      <td>NaN</td>\n      <td>I don't know</td>\n      <td>No</td>\n      <td>No</td>\n      <td>No</td>\n      <td>I don't know</td>\n      <td>Somewhat easy</td>\n      <td>...</td>\n      <td>Not applicable to me</td>\n      <td>Not applicable to me</td>\n      <td>30</td>\n      <td>M</td>\n      <td>United States of America</td>\n      <td>Tennessee</td>\n      <td>United States of America</td>\n      <td>Tennessee</td>\n      <td>Back-end Developer</td>\n      <td>Sometimes</td>\n    </tr>\n    <tr>\n      <th>7</th>\n      <td>0</td>\n      <td>More than 1000</td>\n      <td>1.0</td>\n      <td>NaN</td>\n      <td>Yes</td>\n      <td>Yes</td>\n      <td>No</td>\n      <td>Yes</td>\n      <td>Yes</td>\n      <td>Very easy</td>\n      <td>...</td>\n      <td>Sometimes</td>\n      <td>Often</td>\n      <td>37</td>\n      <td>female</td>\n      <td>United States of America</td>\n      <td>Virginia</td>\n      <td>United States of America</td>\n      <td>Virginia</td>\n      <td>Dev Evangelist/Advocate|Back-end Developer</td>\n      <td>Always</td>\n    </tr>\n    <tr>\n      <th>8</th>\n      <td>0</td>\n      <td>26-100</td>\n      <td>0.0</td>\n      <td>1.0</td>\n      <td>I don't know</td>\n      <td>No</td>\n      <td>No</td>\n      <td>No</td>\n      <td>I don't know</td>\n      <td>Very difficult</td>\n      <td>...</td>\n      <td>Rarely</td>\n      <td>Often</td>\n      <td>44</td>\n      <td>Female</td>\n      <td>United States of America</td>\n      <td>California</td>\n      <td>United States of America</td>\n      <td>California</td>\n      <td>Support|Back-end Developer|One-person shop</td>\n      <td>Sometimes</td>\n    </tr>\n    <tr>\n      <th>9</th>\n      <td>1</td>\n      <td>NaN</td>\n      <td>NaN</td>\n      <td>NaN</td>\n      <td>NaN</td>\n      <td>NaN</td>\n      <td>NaN</td>\n      <td>NaN</td>\n      <td>NaN</td>\n      <td>NaN</td>\n      <td>...</td>\n      <td>Rarely</td>\n      <td>Often</td>\n      <td>30</td>\n      <td>Male</td>\n      <td>United States of America</td>\n      <td>Kentucky</td>\n      <td>United States of America</td>\n      <td>Kentucky</td>\n      <td>One-person shop|Front-end Developer|Back-end D...</td>\n      <td>Always</td>\n    </tr>\n  </tbody>\n</table>\n<p>10 rows × 63 columns</p>\n</div>"
     },
     "execution_count": 6,
     "metadata": {},
     "output_type": "execute_result"
    }
   ],
   "source": [
    "#Load the data file\n",
    "filename = 'mental_health_data_true.csv'\n",
    "data = pd.read_csv(filename)\n",
    "data.head(10)\n",
    "\n",
    "#%\n",
    "# Remove Self Employed Records from the Data\n",
    "\n",
    "# Two ways to do this: Method 1:\n",
    "# Set the Dataframe equal to record where data['A'] == 0\n",
    "# data = data[data['A'] == 0]\n",
    "# data.shape\n",
    "\n",
    "# Method 2:\n",
    "# Actually drop the records from the data frame using frop\n",
    "data.drop(data[data['A'] == 1].index, inplace = True)\n",
    "data.shape"
   ],
   "metadata": {
    "collapsed": false,
    "pycharm": {
     "name": "#%%\n"
    }
   }
  },
  {
   "cell_type": "code",
   "execution_count": 8,
   "metadata": {},
   "outputs": [],
   "source": [
    "#Drop columns"
   ]
  },
  {
   "cell_type": "code",
   "execution_count": 9,
   "metadata": {},
   "outputs": [],
   "source": [
    "#Combine WW and XX"
   ]
  },
  {
   "cell_type": "code",
   "execution_count": 10,
   "metadata": {},
   "outputs": [],
   "source": [
    "#Column XX and WW missing values"
   ]
  },
  {
   "cell_type": "code",
   "execution_count": 11,
   "metadata": {},
   "outputs": [],
   "source": [
    "#Column XX. WW, ZZ codify non-standard values as other"
   ]
  },
  {
   "cell_type": "code",
   "execution_count": 12,
   "metadata": {},
   "outputs": [],
   "source": [
    "#Replace General Missing Values"
   ]
  },
  {
   "cell_type": "code",
   "execution_count": 13,
   "metadata": {},
   "outputs": [],
   "source": [
    "#Handle Gender Somehow"
   ]
  },
  {
   "cell_type": "code",
   "execution_count": 14,
   "metadata": {},
   "outputs": [],
   "source": [
    "#Age Outliers"
   ]
  },
  {
   "cell_type": "code",
   "execution_count": 15,
   "metadata": {},
   "outputs": [],
   "source": [
    "#Encode yes,no,ect values "
   ]
  },
  {
   "cell_type": "code",
   "execution_count": 15,
   "metadata": {},
   "outputs": [],
   "source": [
    "# TODO: We probably should write the data to a clean csv file\n",
    "# DO NOT OVER WRITE EXISTING CSV, it should be written to a new file\n"
   ]
  }
 ],
 "metadata": {
  "kernelspec": {
   "display_name": "Python 3",
   "language": "python",
   "name": "python3"
  },
  "language_info": {
   "codemirror_mode": {
    "name": "ipython",
    "version": 3
   },
   "file_extension": ".py",
   "mimetype": "text/x-python",
   "name": "python",
   "nbconvert_exporter": "python",
   "pygments_lexer": "ipython3",
   "version": "3.7.4"
  }
 },
 "nbformat": 4,
 "nbformat_minor": 2
}