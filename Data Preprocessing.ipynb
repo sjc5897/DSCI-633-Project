{
 "cells": [
  {
   "cell_type": "code",
   "execution_count": 1,
   "metadata": {},
   "outputs": [],
   "source": [
    "import pandas as pd\n",
    "import numpy as np\n",
    "from numpy.distutils.system_info import conda"
   ]
  },
  {
   "cell_type": "code",
   "execution_count": 2,
   "outputs": [],
   "source": [
    "#Load dat\n",
    "\n",
    "mental_health_data_filename = 'mental_health_data_true.csv'\n",
    "mental_health_df= pd.read_csv(mental_health_data_filename)"
   ],
   "metadata": {
    "collapsed": false,
    "pycharm": {
     "name": "#%%\n"
    }
   }
  },
  {
   "cell_type": "code",
   "execution_count": 3,
   "outputs": [
    {
     "name": "stdout",
     "output_type": "stream",
     "text": [
      "Records before drop =  1433\n",
      "Records after drop =  1146\n"
     ]
    }
   ],
   "source": [
    "#Remove self employed records\n",
    "x,y = mental_health_df.shape\n",
    "print(\"Records before drop = \",x)\n",
    "mental_health_df.drop(mental_health_df[mental_health_df['A'] == 1].index, inplace = True)\n",
    "x,y = mental_health_df.shape\n",
    "print(\"Records after drop = \",x)"
   ],
   "metadata": {
    "collapsed": false,
    "pycharm": {
     "name": "#%%\n"
    }
   }
  },
  {
   "cell_type": "code",
   "execution_count": 4,
   "metadata": {},
   "outputs": [
    {
     "name": "stdout",
     "output_type": "stream",
     "text": [
      "Columns before drop =  63\n",
      "Columns after drop =  51\n"
     ]
    }
   ],
   "source": [
    "#Drop columns\n",
    "x,y = mental_health_df.shape\n",
    "print(\"Columns before drop = \",y)\n",
    "mental_health_df = mental_health_df.drop(columns = ['T','Q', 'R', 'S', 'U', 'V', 'W', 'X', 'A', 'D', 'LL', 'NN'])\n",
    "x,y = mental_health_df.shape\n",
    "print(\"Columns after drop = \",y)"
   ]
  },
  {
   "cell_type": "code",
   "execution_count": 5,
   "metadata": {},
   "outputs": [],
   "source": [
    "#Combine WW and XX\n",
    "mental_health_df['WW'] = np.where(mental_health_df['WW'] != mental_health_df['WW'], mental_health_df['XX'], mental_health_df['WW'])"
   ]
  },
  {
   "cell_type": "code",
   "execution_count": 6,
   "metadata": {},
   "outputs": [
    {
     "name": "stdout",
     "output_type": "stream",
     "text": [
      "Columns before drop =  51\n",
      "Columns after drop =  50\n"
     ]
    }
   ],
   "source": [
    "#Drop column XX now that is is combined\n",
    "x,y = mental_health_df.shape\n",
    "print(\"Columns before drop = \",y)\n",
    "mental_health_df = mental_health_df.drop(columns = ['XX'])\n",
    "x,y = mental_health_df.shape\n",
    "print(\"Columns after drop = \",y)"
   ]
  },
  {
   "cell_type": "code",
   "execution_count": 7,
   "metadata": {},
   "outputs": [],
   "source": [
    "#Handle updated column WW missing values\n",
    "#if no value due to \"no\" entered beforehand:\n",
    "mental_health_df['WW'] = np.where((mental_health_df['WW'] != mental_health_df['WW']) & (mental_health_df['VV'] == 'No'), 'N/A', mental_health_df['WW'])\n",
    "#if no value because skipped:\n",
    "mental_health_df['WW'] = np.where(mental_health_df['WW'] != mental_health_df['WW'], 'None', mental_health_df['WW'])"
   ]
  },
  {
   "cell_type": "code",
   "execution_count": 8,
   "metadata": {},
   "outputs": [],
   "source": [
    "#Column XX, WW, ZZ codify non-standard values as other\n",
    "\n",
    "answerString = ('Anxiety Disorder (Generalized, Social, Phobia, etc); Mood Disorder (Depression, Bipolar Disorder, etc); Psychotic Disorder (Schizophrenia, Schizoaffective, etc); Eating Disorder (Anorexia, Bulimia, etc); Attention Deficit Hyperactivity Disorder; Personality Disorder (Borderline, Antisocial, Paranoid, etc); Obsessive-Compulsive Disorder; Post-traumatic Stress Disorder; Stress Response Syndromes; Dissociative Disorder; Substance Use Disorder; Addictive Disorder; Other; N/A; None')\n",
    "answerList = answerString.split('; ')\n",
    "\n",
    "def replacement(col):\n",
    "    colList = col.split('|')\n",
    "\n",
    "    for item in range(len(colList)):\n",
    "        if colList[item] in answerList:\n",
    "            colList[item] = colList[item]\n",
    "        else:\n",
    "            colList[item] = 'Other'\n",
    "\n",
    "    return '|'.join(colList)"
   ]
  },
  {
   "cell_type": "code",
   "execution_count": 9,
   "metadata": {},
   "outputs": [],
   "source": [
    "mental_health_df['WW'] = mental_health_df['WW'].apply(replacement)"
   ]
  },
  {
   "cell_type": "code",
   "execution_count": 10,
   "metadata": {},
   "outputs": [],
   "source": [
    "#Need to replace Nan values in col ZZ before running the \"replacement\" function\n",
    "#if no value due to \"no\" entered beforehand:\n",
    "mental_health_df['ZZ'] = np.where((mental_health_df['ZZ'] != mental_health_df['ZZ']) & (mental_health_df['YY'] == 'No'), 'N/A', mental_health_df['ZZ'])\n",
    "#if no value because skipped:\n",
    "mental_health_df['ZZ'] = np.where(mental_health_df['ZZ'] != mental_health_df['ZZ'], 'None', mental_health_df['ZZ'])"
   ]
  },
  {
   "cell_type": "code",
   "execution_count": 11,
   "metadata": {},
   "outputs": [],
   "source": [
    "mental_health_df['ZZ'] = mental_health_df['ZZ'].apply(replacement)"
   ]
  },
  {
   "cell_type": "code",
   "execution_count": 12,
   "metadata": {},
   "outputs": [],
   "source": [
    "#Replace General Missing Values\n",
    "\n",
    "no_Entry = {'SS': 'No Entry', 'GGG': 'No Entry', 'III': 'No Entry', 'EEE': 'No Entry', 'RR': 'No Entry', 'F': 'No Entry'}\n",
    "mental_health_df = mental_health_df.fillna(value = no_Entry)\n",
    "\n",
    "not_App = {'Z': 'Not Applicable', 'AA': 'Not Applicable', 'BB': 'Not Applicable','CC': 'Not Applicable','DD': 'Not Applicable','EE': 'Not Applicable', 'FF': 'Not Applicable','GG': 'Not Applicable', 'HH': 'Not Applicable', 'II': 'Not Applicable', 'JJ': 'Not Applicable', 'Y': 'Not Applicable'}\n",
    "mental_health_df = mental_health_df.fillna(value = not_App)"
   ]
  },
  {
   "cell_type": "code",
   "execution_count": 13,
   "outputs": [],
   "source": [
    "#Handle Gender Somehow\n",
    "# This var makes my life a little easier\n",
    "# TODO: gender_col_id may change after integration, double check this\n",
    "gender_col_id = \"EEE\"\n",
    "\n",
    "# for this method to work better, strip leading and ending whitespace\n",
    "mental_health_df[gender_col_id] = mental_health_df[gender_col_id].str.strip()\n",
    "\n",
    "# regex explanation:\n",
    "# (?i) - case insensitive, looks for female or woman or f\n",
    "female_regex_pattern = r'(?i).*(female|woman|f).*'\n",
    "\n",
    "# regex explanation:\n",
    "# (?i) - case insensitive, looks for male or man or m\n",
    "male_regex_pattern = r'(?i).*(male|man|m).*'\n",
    "\n",
    "# regex explanation:\n",
    "# any value, not F or M gets O\n",
    "other_regex_pattern = r'^(?!M).*^(?!F).*'\n",
    "\n",
    "# replace female\n",
    "mental_health_df[gender_col_id].replace(to_replace=female_regex_pattern, value = 'F',\n",
    "                                        inplace = True, regex= True)\n",
    "# replace male\n",
    "mental_health_df[gender_col_id].replace(to_replace=male_regex_pattern, value = 'M',\n",
    "                                        inplace = True, regex= True)\n",
    "\n",
    "# replace other\n",
    "mental_health_df[gender_col_id].replace(to_replace=other_regex_pattern, value = 'O',\n",
    "                                        inplace = True, regex= True)\n",
    "\n",
    "#fill na spaces with other.\n",
    "mental_health_df[gender_col_id] = mental_health_df[gender_col_id].fillna(value=\"O\")# This var makes my life a little easier\n",
    "# TODO: gender_col_id may change after integration, double check this\n",
    "gender_col_id = \"EEE\"\n",
    "\n",
    "# for this method to work better, strip leading and ending whitespace\n",
    "mental_health_df[gender_col_id] = mental_health_df[gender_col_id].str.strip()\n",
    "\n",
    "# regex explanation:\n",
    "# (?i) - case insensitive, looks for female or woman or f\n",
    "female_regex_pattern = r'(?i).*(female|woman|f).*'\n",
    "\n",
    "# regex explanation:\n",
    "# (?i) - case insensitive, looks for male or man or m\n",
    "male_regex_pattern = r'(?i).*(male|man|m).*'\n",
    "\n",
    "# regex explanation:\n",
    "# any value, not F or M gets O\n",
    "other_regex_pattern = r'^(?!M).*^(?!F).*'\n",
    "\n",
    "# replace female\n",
    "mental_health_df[gender_col_id].replace(to_replace=female_regex_pattern, value = 'F',\n",
    "                                        inplace = True, regex= True)\n",
    "# replace male\n",
    "mental_health_df[gender_col_id].replace(to_replace=male_regex_pattern, value = 'M',\n",
    "                                        inplace = True, regex= True)\n",
    "\n",
    "# replace other\n",
    "mental_health_df[gender_col_id].replace(to_replace=other_regex_pattern, value = 'O',\n",
    "                                        inplace = True, regex= True)\n",
    "\n",
    "#fill na spaces with other.\n",
    "mental_health_df[gender_col_id] = mental_health_df[gender_col_id].fillna(value=\"O\")"
   ],
   "metadata": {
    "collapsed": false,
    "pycharm": {
     "name": "#%%\n"
    }
   }
  },
  {
   "cell_type": "code",
   "execution_count": 14,
   "outputs": [
    {
     "data": {
      "text/plain": "M    847\nF    280\nO     19\nName: EEE, dtype: int64"
     },
     "execution_count": 14,
     "metadata": {},
     "output_type": "execute_result"
    }
   ],
   "source": [
    "mental_health_df['EEE'].value_counts()"
   ],
   "metadata": {
    "collapsed": false,
    "pycharm": {
     "name": "#%%\n"
    }
   }
  },
  {
   "cell_type": "code",
   "execution_count": 15,
   "outputs": [
    {
     "name": "stdout",
     "output_type": "stream",
     "text": [
      "Records before drop =  1146\n",
      "Records after drop =  1143\n"
     ]
    }
   ],
   "source": [
    "#Age Outliers\n",
    "\n",
    "x,y = mental_health_df.shape\n",
    "print(\"Records before drop = \",x)\n",
    "\n",
    "count = 0\n",
    "\n",
    "for i in mental_health_df['DDD']:\n",
    "    if i > 75 or i < 15:\n",
    "        mental_health_df = mental_health_df.drop([count], axis = 0)\n",
    "    count = count+1\n",
    "\n",
    "\n",
    "x,y = mental_health_df.shape\n",
    "print(\"Records after drop = \",x)"
   ],
   "metadata": {
    "collapsed": false,
    "pycharm": {
     "name": "#%%\n"
    }
   }
  },
  {
   "cell_type": "code",
   "execution_count": 16,
   "outputs": [],
   "source": [
    "mental_health_df.to_csv('mental_health_CLEAN.csv', index=False)"
   ],
   "metadata": {
    "collapsed": false,
    "pycharm": {
     "name": "#%%\n"
    }
   }
  },
  {
   "cell_type": "code",
   "execution_count": 17,
   "outputs": [
    {
     "ename": "SyntaxError",
     "evalue": "invalid syntax (Temp/ipykernel_34644/1655784822.py, line 2)",
     "output_type": "error",
     "traceback": [
      "\u001B[1;36m  File \u001B[1;32m\"C:\\Users\\steve\\AppData\\Local\\Temp/ipykernel_34644/1655784822.py\"\u001B[1;36m, line \u001B[1;32m2\u001B[0m\n\u001B[1;33m    conda install -c conda-forge category_encoders\u001B[0m\n\u001B[1;37m          ^\u001B[0m\n\u001B[1;31mSyntaxError\u001B[0m\u001B[1;31m:\u001B[0m invalid syntax\n"
     ]
    }
   ],
   "source": [
    "#Encode yes,no,ect values\n",
    "# conda install -c conda-forge category_encoders"
   ],
   "metadata": {
    "collapsed": false,
    "pycharm": {
     "name": "#%%\n"
    }
   }
  },
  {
   "cell_type": "code",
   "execution_count": null,
   "outputs": [],
   "source": [
    "import category_encoders as ce"
   ],
   "metadata": {
    "collapsed": false,
    "pycharm": {
     "name": "#%%\n"
    }
   }
  },
  {
   "cell_type": "code",
   "execution_count": null,
   "outputs": [],
   "source": [
    "# create object of Ordinalencoding\n",
    "encoder= ce.OrdinalEncoder(cols=['F'],return_df=True,\n",
    "                           mapping=[{'col':'F',\n",
    "'mapping':{'No Entry':0,'Yes':1,'No':2,'I am not sure':3}}])"
   ],
   "metadata": {
    "collapsed": false,
    "pycharm": {
     "name": "#%%\n"
    }
   }
  },
  {
   "cell_type": "code",
   "execution_count": null,
   "outputs": [],
   "source": [
    "mental_health_df_encoding_test = encoder.fit_transform(mental_health_df)"
   ],
   "metadata": {
    "collapsed": false,
    "pycharm": {
     "name": "#%%\n"
    }
   }
  },
  {
   "cell_type": "code",
   "execution_count": null,
   "outputs": [],
   "source": [
    "mental_health_df['F'].value_counts()"
   ],
   "metadata": {
    "collapsed": false,
    "pycharm": {
     "name": "#%%\n"
    }
   }
  },
  {
   "cell_type": "code",
   "execution_count": null,
   "outputs": [],
   "source": [
    "mental_health_df_encoding_test['F'].value_counts()"
   ],
   "metadata": {
    "collapsed": false,
    "pycharm": {
     "name": "#%%\n"
    }
   }
  },
  {
   "cell_type": "code",
   "execution_count": null,
   "outputs": [],
   "source": [
    "# create object of Ordinalencoding\n",
    "encoder= ce.OrdinalEncoder(cols=['YY'],return_df=True,\n",
    "                           mapping=[{'col':'YY',\n",
    "'mapping':{'No':0,'Yes':1}}])"
   ],
   "metadata": {
    "collapsed": false,
    "pycharm": {
     "name": "#%%\n"
    }
   }
  },
  {
   "cell_type": "code",
   "execution_count": null,
   "outputs": [],
   "source": [
    "mental_health_df_encoding_test = encoder.fit_transform(mental_health_df)"
   ],
   "metadata": {
    "collapsed": false,
    "pycharm": {
     "name": "#%%\n"
    }
   }
  },
  {
   "cell_type": "code",
   "execution_count": null,
   "outputs": [],
   "source": [
    "mental_health_df['YY'].value_counts()"
   ],
   "metadata": {
    "collapsed": false,
    "pycharm": {
     "name": "#%%\n"
    }
   }
  },
  {
   "cell_type": "code",
   "execution_count": null,
   "outputs": [],
   "source": [
    "mental_health_df_encoding_test['YY'].value_counts()"
   ],
   "metadata": {
    "collapsed": false,
    "pycharm": {
     "name": "#%%\n"
    }
   }
  },
  {
   "cell_type": "code",
   "execution_count": null,
   "outputs": [],
   "source": [],
   "metadata": {
    "collapsed": false,
    "pycharm": {
     "name": "#%%\n"
    }
   }
  }
 ],
 "metadata": {
  "kernelspec": {
   "display_name": "Python 3",
   "language": "python",
   "name": "python3"
  },
  "language_info": {
   "codemirror_mode": {
    "name": "ipython",
    "version": 3
   },
   "file_extension": ".py",
   "mimetype": "text/x-python",
   "name": "python",
   "nbconvert_exporter": "python",
   "pygments_lexer": "ipython3",
   "version": "3.7.4"
  }
 },
 "nbformat": 4,
 "nbformat_minor": 2
}