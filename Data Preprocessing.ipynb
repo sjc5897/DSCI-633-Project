{
 "cells": [
  {
   "cell_type": "code",
   "execution_count": 72,
   "metadata": {
    "pycharm": {
     "name": "#%%\n"
    }
   },
   "outputs": [],
   "source": [
    "\"\"\"\n",
    "DSCI-663-03 Project: Data Preprocessing File\n",
    "This file preforms some of our discrete preprocessing tasks for our ML\n",
    "\n",
    ":language:      Python with pandas\n",
    ":author:        Stephen Cook\n",
    ":author:        Cory Maclauchlan\n",
    ":author:        Robert Gentilucci\n",
    ":author:        Julia Okvath\n",
    ":date created:  10/18/21\n",
    ":last edit:     11/27/21\n",
    "\"\"\"\n",
    "# import pandas and numpy\n",
    "import pandas as pd\n",
    "import category_encoders as ce"
   ]
  },
  {
   "cell_type": "code",
   "execution_count": 73,
   "metadata": {
    "pycharm": {
     "name": "#%%\n"
    }
   },
   "outputs": [],
   "source": [
    "# Task 1: Load in the data file, mental_health_data.csv\n",
    "mental_health_data_filename = 'mental_health_data.csv'\n",
    "mental_health_df= pd.read_csv(mental_health_data_filename)"
   ]
  },
  {
   "cell_type": "code",
   "execution_count": 74,
   "metadata": {
    "pycharm": {
     "name": "#%%\n"
    }
   },
   "outputs": [],
   "source": [
    "# Task 2: Drop all records for self employed people\n",
    "# This was done because self-employed respondents are irrelevant to our questions\n",
    "mental_health_df.drop(mental_health_df[mental_health_df['A'] == 1].index, inplace = True)\n"
   ]
  },
  {
   "cell_type": "code",
   "execution_count": 75,
   "metadata": {},
   "outputs": [],
   "source": [
    "# Task 3: Preform Feature Subset Selection by filtering out irrelevant columns\n",
    "mental_health_df = mental_health_df.drop(columns = ['T','Q', 'R', 'S', 'U', 'V', 'W', 'X', 'A', 'D', 'L', 'O', 'LL', 'NN', \n",
    "                                                    'WW', 'XX', 'ZZ', 'BBB', 'CCC', 'FFF', 'JJJ', 'GGG', 'III', 'KK','FF',\n",
    "                                                    'C', 'Y','Z', 'AA','BB','CC','EE','GG','HH','II','JJ'])\n"
   ]
  },
  {
   "cell_type": "code",
   "execution_count": 76,
   "metadata": {
    "pycharm": {
     "name": "#%%\n"
    }
   },
   "outputs": [],
   "source": [
    "## Task 4: Replace General Missing Values\n",
    "\n",
    "no_Entry = {'SS': 'No Entry', 'GGG': 'No Entry', 'III': 'No Entry', 'EEE': 'No Entry', 'RR': 'No Entry', 'F': 'No Entry'}\n",
    "mental_health_df = mental_health_df.fillna(value = no_Entry)\n",
    "\n",
    "not_App = {'Z': 'Not Applicable', 'AA': 'Not Applicable', 'BB': 'Not Applicable','CC': 'Not Applicable',\n",
    "           'DD': 'Not Applicable','EE': 'Not Applicable', 'FF': 'Not Applicable','GG': 'Not Applicable',\n",
    "           'HH': 'Not Applicable', 'II': 'Not Applicable', 'JJ': 'Not Applicable', 'Y': 'Not Applicable'}\n",
    "mental_health_df = mental_health_df.fillna(value = not_App)"
   ]
  },
  {
   "cell_type": "code",
   "execution_count": 77,
   "metadata": {
    "pycharm": {
     "name": "#%%\n"
    }
   },
   "outputs": [],
   "source": [
    "# Task 5: Standardize the Gender Responses, as they were free response.\n",
    "\n",
    "# Var for the gender column ID\n",
    "gender_col_id = \"EEE\"\n",
    "\n",
    "# for this method to work better, strip leading and ending whitespace\n",
    "mental_health_df[gender_col_id] = mental_health_df[gender_col_id].str.strip()\n",
    "\n",
    "# regex explanation:\n",
    "# (?i) - case insensitive, looks for female or woman or f\n",
    "female_regex_pattern = r'(?i).*(female|woman|f).*'\n",
    "\n",
    "# regex explanation:\n",
    "# (?i) - case insensitive, looks for male or man or m\n",
    "male_regex_pattern = r'(?i).*(male|man|m).*'\n",
    "\n",
    "# regex explanation:\n",
    "# any value, not F or M gets O\n",
    "other_regex_pattern = r'^(?!M).*^(?!F).*'\n",
    "\n",
    "# replace female\n",
    "mental_health_df[gender_col_id].replace(to_replace=female_regex_pattern, value = 'F',\n",
    "                                        inplace = True, regex= True)\n",
    "# replace male\n",
    "mental_health_df[gender_col_id].replace(to_replace=male_regex_pattern, value = 'M',\n",
    "                                        inplace = True, regex= True)\n",
    "\n",
    "# replace other\n",
    "mental_health_df[gender_col_id].replace(to_replace=other_regex_pattern, value = 'O',\n",
    "                                        inplace = True, regex= True)\n",
    "\n",
    "#fill na spaces with other.\n",
    "mental_health_df[gender_col_id] = mental_health_df[gender_col_id].fillna(value=\"O\")# This var makes my life a little easier"
   ]
  },
  {
   "cell_type": "code",
   "execution_count": 78,
   "metadata": {
    "pycharm": {
     "name": "#%%\n"
    }
   },
   "outputs": [],
   "source": [
    "# Task 6: Manage Age Outliers\n",
    "\n",
    "# Find IQR of age group for removal of extreme outliers\n",
    "Q1 = mental_health_df['DDD'].quantile(.25)\n",
    "Q3 = mental_health_df['DDD'].quantile(.75)\n",
    "IQR = Q3-Q1\n",
    "\n",
    "# Remove extreme outliers in the age column\n",
    "# Note IQR is used for upper bound; however, IQR is invalid for lowered as it would be negative. we use 15\n",
    "mental_health_df.drop(mental_health_df[(mental_health_df['DDD'] > Q3+6*IQR)\n",
    "                                       | (mental_health_df['DDD'] < 15)].index, axis = 0, inplace=True)"
   ]
  },
  {
   "cell_type": "code",
   "execution_count": 79,
   "metadata": {
    "pycharm": {
     "name": "#%%\n"
    }
   },
   "outputs": [],
   "source": [
    "# Task 7: Discretize age data\n",
    "\n",
    "mental_health_df['DDD'] = pd.cut(mental_health_df[\"DDD\"], bins=[0, 25, 35, 45, 100],\n",
    "                                 labels=[\"<25\", \"25-35\", \"36-45\", \">45\"])\n",
    "\n"
   ]
  },
  {
   "cell_type": "code",
   "execution_count": 80,
   "metadata": {
    "pycharm": {
     "name": "#%%\n"
    }
   },
   "outputs": [],
   "source": [
    "# Task 8: Cast all binary columns to boolean type, this caused issues in Apriori\n",
    "mental_health_df['AAA'] = mental_health_df['AAA'].astype('bool')\n"
   ]
  },
  {
   "cell_type": "code",
   "execution_count": 81,
   "metadata": {},
   "outputs": [],
   "source": [
    "# Task 9: Encode chosen columns to binary values for later aggregation\n",
    "\n",
    "encoder_bin = [\n",
    "    ce.OrdinalEncoder(cols=['E'],return_df=True,mapping=[{'col':'E','mapping':{'No':0,'Yes':1,\"I don't know\":0,'Not eligible for coverage / N/A':0}}]),\n",
    "    ce.OrdinalEncoder(cols=['F'],return_df=True,mapping=[{'col':'F','mapping':{'No':0,'Yes':1,\"No Entry\":0,'I am not sure':0}}]),\n",
    "    ce.OrdinalEncoder(cols=['G'],return_df=True,mapping=[{'col':'G','mapping':{'No':0,'Yes':1,\"I don't know\":0}}]),\n",
    "    ce.OrdinalEncoder(cols=['H'],return_df=True,mapping=[{'col':'H','mapping':{'No':0,'Yes':1,\"I don't know\":0}}]),\n",
    "    ce.OrdinalEncoder(cols=['I'],return_df=True,mapping=[{'col':'I','mapping':{'No':0,'Yes':1,\"I don't know\":0}}]),\n",
    "    ce.OrdinalEncoder(cols=['J'],return_df=True,mapping=[{'col':'J','mapping':{'Very easy':1,'Somewhat easy':1,\"I don't know\":0,\n",
    "                                                          'Neither easy nor difficult':1, 'Very difficult':0,\n",
    "                                                          'Somewhat difficult':0}}]),\n",
    "    ce.OrdinalEncoder(cols=['K'],return_df=True,mapping=[{'col':'K','mapping':{'No':1,'Yes':0,\"Maybe\":0}}]),\n",
    "    ce.OrdinalEncoder(cols=['M'],return_df=True,mapping=[{'col':'M','mapping':{'No':0,'Yes':1,\"Maybe\":0}}]),\n",
    "    ce.OrdinalEncoder(cols=['N'],return_df=True,mapping=[{'col':'N','mapping':{'No':0,'Yes':1,\"Maybe\":0}}]),\n",
    "    ce.OrdinalEncoder(cols=['P'],return_df=True,mapping=[{'col':'P','mapping':{'No':1,'Yes':0}}]),\n",
    "    ce.OrdinalEncoder(cols=['DD'],return_df=True, mapping=[{'col':'DD','mapping':{'No':0,'Yes, always':1,\"I don't know\":0,'Sometimes':0,\n",
    "                                                          'Not Applicable':0}}]),\n",
    "    ce.OrdinalEncoder(cols=['MM'],return_df=True, mapping=[{'col':'MM','mapping':{'No':0,'Yes':1,\"Maybe\":0}}]),\n",
    "    ce.OrdinalEncoder(cols=['OO'],return_df=True,\n",
    "                           mapping=[{'col':'OO','mapping':{\"No, I don't think it would\":1,\"No, it has not\":1,\n",
    "                                                           'Yes, I think it would':0,'Yes, it has':0,\"Maybe\":0}}]),\n",
    "    ce.OrdinalEncoder(cols=['PP'],return_df=True,\n",
    "                           mapping=[{'col':'PP','mapping':{\"No, I don't think they would\":1,\"No, they do not\":1,\n",
    "                                                           'Yes, I think they would':0,'Yes, they do':0,\"Maybe\":0}}]),\n",
    "    ce.OrdinalEncoder(cols=['QQ'],return_df=True,\n",
    "                           mapping=[{'col':'QQ','mapping':{\"Somewhat open\":1,\n",
    "                                                           \"Not applicable to me (I do not have a mental illness)\":0,\n",
    "                                                           'Very open':1,'Not open at all':0,\"Neutral\":0,\n",
    "                                                           'Somewhat not open':0}}]),\n",
    "    ce.OrdinalEncoder(cols=['RR'],return_df=True,\n",
    "                           mapping=[{'col':'RR','mapping':{\"No\":1,\"Maybe/Not sure\":0,'Yes, I experienced':0,\n",
    "                                                           'Yes, I observed':0,\"No Entry\":0}}]),\n",
    "    ce.OrdinalEncoder(cols=['SS'],return_df=True,\n",
    "                           mapping=[{'col':'SS','mapping':{\"No\":1,\"Maybe\":0,'Yes':0,\"No Entry\":0}}])\n",
    "\n",
    "\n",
    "\n",
    "\n",
    "\n",
    "]\n",
    "for encoder in encoder_bin:\n",
    "    mental_health_df = encoder.fit_transform(mental_health_df)\n"
   ]
  },
  {
   "cell_type": "code",
   "execution_count": 82,
   "metadata": {},
   "outputs": [],
   "source": [
    "# Task 10: Sum relevant columns to create indicators for \"Workplace Culture\", \"Employee comfort with mental health in the\n",
    "# workplace\", and \"Employee comfort with mental health\"\n",
    "# The purpose of this is to reduce dimensionality of the survey data by encoding survey questions for each of the 3 \n",
    "# indicators listed and summing them\n",
    "mental_health_df['Workplace_Culture'] = (mental_health_df['E'] +\n",
    "                                                       mental_health_df['F'] +\n",
    "                                                       mental_health_df['G'] +\n",
    "                                                       mental_health_df['H'] +\n",
    "                                                       mental_health_df['I'] +\n",
    "                                                       mental_health_df['J'] +\n",
    "                                                       mental_health_df['P'] +\n",
    "                                                       mental_health_df['DD'] +\n",
    "                                                       mental_health_df['RR'] +\n",
    "                                                       mental_health_df['SS'])\n",
    "\n",
    "\n",
    "mental_health_df['Employee_Comfort_w/_MH_@_Workplace'] = (mental_health_df['PP'] +\n",
    "                                                                        mental_health_df['OO'] +\n",
    "                                                                        mental_health_df['M'] +\n",
    "                                                                        mental_health_df['N'] +\n",
    "                                                                        mental_health_df['K'])\n",
    "\n",
    "mental_health_df['Employee_Comfort_w/_MH'] = (mental_health_df['MM'] +\n",
    "                                                            mental_health_df['QQ'])"
   ]
  },
  {
   "cell_type": "code",
   "execution_count": 83,
   "metadata": {},
   "outputs": [],
   "source": [
    "# Task 11: drop columns which were used to create the 3 indicator columns:\n",
    "# \"Workplace Culture\", \"Employee comfort with mental health in the workplace\", and \"Employee comfort with mental health\"\n",
    "\n",
    "mental_health_df = mental_health_df.drop(columns = ['E', 'F', 'G', 'H', 'I', 'J', 'K',\n",
    "                                                                 'M', 'N', 'P', 'DD', 'MM', 'OO', 'PP',\n",
    "                                                                 'QQ', 'RR', 'SS'])"
   ]
  },
  {
   "cell_type": "code",
   "execution_count": 84,
   "metadata": {},
   "outputs": [
    {
     "data": {
      "text/plain": "       Workplace_Culture  Employee_Comfort_w/_MH_@_Workplace  \\\ncount        1143.000000                         1143.000000   \nmean            3.694663                            1.422572   \nstd             1.890255                            1.535025   \nmin             0.000000                            0.000000   \n25%             2.000000                            0.000000   \n50%             3.000000                            1.000000   \n75%             5.000000                            3.000000   \nmax             9.000000                            5.000000   \n\n       Employee_Comfort_w/_MH  \ncount             1143.000000  \nmean                 0.701662  \nstd                  0.568640  \nmin                  0.000000  \n25%                  0.000000  \n50%                  1.000000  \n75%                  1.000000  \nmax                  2.000000  ",
      "text/html": "<div>\n<style scoped>\n    .dataframe tbody tr th:only-of-type {\n        vertical-align: middle;\n    }\n\n    .dataframe tbody tr th {\n        vertical-align: top;\n    }\n\n    .dataframe thead th {\n        text-align: right;\n    }\n</style>\n<table border=\"1\" class=\"dataframe\">\n  <thead>\n    <tr style=\"text-align: right;\">\n      <th></th>\n      <th>Workplace_Culture</th>\n      <th>Employee_Comfort_w/_MH_@_Workplace</th>\n      <th>Employee_Comfort_w/_MH</th>\n    </tr>\n  </thead>\n  <tbody>\n    <tr>\n      <th>count</th>\n      <td>1143.000000</td>\n      <td>1143.000000</td>\n      <td>1143.000000</td>\n    </tr>\n    <tr>\n      <th>mean</th>\n      <td>3.694663</td>\n      <td>1.422572</td>\n      <td>0.701662</td>\n    </tr>\n    <tr>\n      <th>std</th>\n      <td>1.890255</td>\n      <td>1.535025</td>\n      <td>0.568640</td>\n    </tr>\n    <tr>\n      <th>min</th>\n      <td>0.000000</td>\n      <td>0.000000</td>\n      <td>0.000000</td>\n    </tr>\n    <tr>\n      <th>25%</th>\n      <td>2.000000</td>\n      <td>0.000000</td>\n      <td>0.000000</td>\n    </tr>\n    <tr>\n      <th>50%</th>\n      <td>3.000000</td>\n      <td>1.000000</td>\n      <td>1.000000</td>\n    </tr>\n    <tr>\n      <th>75%</th>\n      <td>5.000000</td>\n      <td>3.000000</td>\n      <td>1.000000</td>\n    </tr>\n    <tr>\n      <th>max</th>\n      <td>9.000000</td>\n      <td>5.000000</td>\n      <td>2.000000</td>\n    </tr>\n  </tbody>\n</table>\n</div>"
     },
     "execution_count": 84,
     "metadata": {},
     "output_type": "execute_result"
    }
   ],
   "source": [
    "# Review summary statistics for use in column discretization (for association rule mining)\n",
    "# The bins will be based on the mean of each indicator. The bin labels will be \"Below Average\", \"Average\", or \"Above Average\"\n",
    "# The bin width for the \"Average\" label will be the mean of the data +/- 1 sigma. If the Average - 1 sigma results in a\n",
    "# negative number then only 2 bins will be used to discretize the data -> \"Average\" and \"Above Average\"\n",
    "mental_health_df.describe()"
   ]
  },
  {
   "cell_type": "code",
   "execution_count": 85,
   "metadata": {},
   "outputs": [],
   "source": [
    "# Task 12: discretize the \"Workplace Culture\", \"Employee comfort with mental health in the workplace\", \n",
    "# and \"Employee comfort with mental health\" columns so data can be used with the Apriori algorithm\n",
    "\n",
    "binsWC=[-1, 1.8, 5.58, 9]\n",
    "labelsWC=['Below_Avg', 'Average', 'Above Average']\n",
    "\n",
    "mental_health_df_redux['Workplace_Culture_discrete'] = pd.cut(mental_health_df_redux['Workplace_Culture'], \n",
    "                                                               binsWC, labels=labelsWC)\n",
    "\n",
    "binsMHW=[-1, 3, 5]\n",
    "labelsMHW=['Average', 'Above Average']\n",
    "\n",
    "mental_health_df_redux['Employee_Comfort_w/_MH_@_Workplace_discrete'] = pd.cut(mental_health_df_redux['Employee_Comfort_w/_MH_@_Workplace'], \n",
    "                                                                                binsMHW, labels=labelsMHW)\n",
    "\n",
    "binsMH=[-1, 1, 2]\n",
    "labelsMH=['Average', 'Above Average']\n",
    "\n",
    "mental_health_df_redux['Employee_Comfort_w/_MH_discrete'] = pd.cut(mental_health_df_redux['Employee_Comfort_w/_MH'], \n",
    "                                                                                binsMH, labels=labelsMH)"
   ]
  },
  {
   "cell_type": "code",
   "execution_count": 86,
   "metadata": {
    "pycharm": {
     "name": "#%%\n"
    }
   },
   "outputs": [],
   "source": [
    "# Task 13: print the cleaned file to csv\n",
    "mental_health_df_redux.to_csv('mental_health_CLEAN.csv', index=False, quoting=1)\n",
    "\n"
   ]
  }
 ],
 "metadata": {
  "kernelspec": {
   "display_name": "Python 3",
   "language": "python",
   "name": "python3"
  },
  "language_info": {
   "codemirror_mode": {
    "name": "ipython",
    "version": 3
   },
   "file_extension": ".py",
   "mimetype": "text/x-python",
   "name": "python",
   "nbconvert_exporter": "python",
   "pygments_lexer": "ipython3",
   "version": "3.7.4"
  }
 },
 "nbformat": 4,
 "nbformat_minor": 2
}