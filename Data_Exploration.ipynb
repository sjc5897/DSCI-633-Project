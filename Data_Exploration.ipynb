{
 "cells": [
  {
   "cell_type": "code",
   "execution_count": 1,
   "metadata": {},
   "outputs": [],
   "source": [
    "import pandas as pd\n",
    "import numpy as np\n",
    "\n",
    "import matplotlib.pyplot as plt\n",
    "import matplotlib as pyplot\n",
    "%matplotlib inline"
   ]
  },
  {
   "cell_type": "code",
   "execution_count": 51,
   "metadata": {},
   "outputs": [],
   "source": [
    "filename = 'mental_health_data_new_colnames.csv'\n",
    "data = pd.read_csv(filename)"
   ]
  },
  {
   "cell_type": "code",
   "execution_count": 52,
   "metadata": {},
   "outputs": [
    {
     "data": {
      "text/html": [
       "<div>\n",
       "<style scoped>\n",
       "    .dataframe tbody tr th:only-of-type {\n",
       "        vertical-align: middle;\n",
       "    }\n",
       "\n",
       "    .dataframe tbody tr th {\n",
       "        vertical-align: top;\n",
       "    }\n",
       "\n",
       "    .dataframe thead th {\n",
       "        text-align: right;\n",
       "    }\n",
       "</style>\n",
       "<table border=\"1\" class=\"dataframe\">\n",
       "  <thead>\n",
       "    <tr style=\"text-align: right;\">\n",
       "      <th></th>\n",
       "      <th>A</th>\n",
       "      <th>B</th>\n",
       "      <th>C</th>\n",
       "      <th>D</th>\n",
       "      <th>E</th>\n",
       "      <th>F</th>\n",
       "      <th>G</th>\n",
       "      <th>H</th>\n",
       "      <th>I</th>\n",
       "      <th>J</th>\n",
       "      <th>...</th>\n",
       "      <th>BBB</th>\n",
       "      <th>CCC</th>\n",
       "      <th>DDD</th>\n",
       "      <th>EEE</th>\n",
       "      <th>FFF</th>\n",
       "      <th>GGG</th>\n",
       "      <th>HHH</th>\n",
       "      <th>III</th>\n",
       "      <th>JJJ</th>\n",
       "      <th>LLL</th>\n",
       "    </tr>\n",
       "  </thead>\n",
       "  <tbody>\n",
       "    <tr>\n",
       "      <td>0</td>\n",
       "      <td>0</td>\n",
       "      <td>26-100</td>\n",
       "      <td>1.0</td>\n",
       "      <td>NaN</td>\n",
       "      <td>Not eligible for coverage / N/A</td>\n",
       "      <td>NaN</td>\n",
       "      <td>No</td>\n",
       "      <td>No</td>\n",
       "      <td>I don't know</td>\n",
       "      <td>Very easy</td>\n",
       "      <td>...</td>\n",
       "      <td>Not applicable to me</td>\n",
       "      <td>Not applicable to me</td>\n",
       "      <td>39</td>\n",
       "      <td>Male</td>\n",
       "      <td>United Kingdom</td>\n",
       "      <td>NaN</td>\n",
       "      <td>United Kingdom</td>\n",
       "      <td>NaN</td>\n",
       "      <td>Back-end Developer</td>\n",
       "      <td>Sometimes</td>\n",
       "    </tr>\n",
       "    <tr>\n",
       "      <td>1</td>\n",
       "      <td>0</td>\n",
       "      <td>25-Jun</td>\n",
       "      <td>1.0</td>\n",
       "      <td>NaN</td>\n",
       "      <td>No</td>\n",
       "      <td>Yes</td>\n",
       "      <td>Yes</td>\n",
       "      <td>Yes</td>\n",
       "      <td>Yes</td>\n",
       "      <td>Somewhat easy</td>\n",
       "      <td>...</td>\n",
       "      <td>Rarely</td>\n",
       "      <td>Sometimes</td>\n",
       "      <td>29</td>\n",
       "      <td>male</td>\n",
       "      <td>United States of America</td>\n",
       "      <td>Illinois</td>\n",
       "      <td>United States of America</td>\n",
       "      <td>Illinois</td>\n",
       "      <td>Back-end Developer|Front-end Developer</td>\n",
       "      <td>Never</td>\n",
       "    </tr>\n",
       "    <tr>\n",
       "      <td>2</td>\n",
       "      <td>0</td>\n",
       "      <td>25-Jun</td>\n",
       "      <td>1.0</td>\n",
       "      <td>NaN</td>\n",
       "      <td>No</td>\n",
       "      <td>NaN</td>\n",
       "      <td>No</td>\n",
       "      <td>No</td>\n",
       "      <td>I don't know</td>\n",
       "      <td>Neither easy nor difficult</td>\n",
       "      <td>...</td>\n",
       "      <td>Not applicable to me</td>\n",
       "      <td>Not applicable to me</td>\n",
       "      <td>38</td>\n",
       "      <td>Male</td>\n",
       "      <td>United Kingdom</td>\n",
       "      <td>NaN</td>\n",
       "      <td>United Kingdom</td>\n",
       "      <td>NaN</td>\n",
       "      <td>Back-end Developer</td>\n",
       "      <td>Always</td>\n",
       "    </tr>\n",
       "    <tr>\n",
       "      <td>3</td>\n",
       "      <td>1</td>\n",
       "      <td>NaN</td>\n",
       "      <td>NaN</td>\n",
       "      <td>NaN</td>\n",
       "      <td>NaN</td>\n",
       "      <td>NaN</td>\n",
       "      <td>NaN</td>\n",
       "      <td>NaN</td>\n",
       "      <td>NaN</td>\n",
       "      <td>NaN</td>\n",
       "      <td>...</td>\n",
       "      <td>Sometimes</td>\n",
       "      <td>Sometimes</td>\n",
       "      <td>43</td>\n",
       "      <td>male</td>\n",
       "      <td>United Kingdom</td>\n",
       "      <td>NaN</td>\n",
       "      <td>United Kingdom</td>\n",
       "      <td>NaN</td>\n",
       "      <td>Supervisor/Team Lead</td>\n",
       "      <td>Sometimes</td>\n",
       "    </tr>\n",
       "    <tr>\n",
       "      <td>4</td>\n",
       "      <td>0</td>\n",
       "      <td>25-Jun</td>\n",
       "      <td>0.0</td>\n",
       "      <td>1.0</td>\n",
       "      <td>Yes</td>\n",
       "      <td>Yes</td>\n",
       "      <td>No</td>\n",
       "      <td>No</td>\n",
       "      <td>No</td>\n",
       "      <td>Neither easy nor difficult</td>\n",
       "      <td>...</td>\n",
       "      <td>Sometimes</td>\n",
       "      <td>Sometimes</td>\n",
       "      <td>43</td>\n",
       "      <td>Female</td>\n",
       "      <td>United States of America</td>\n",
       "      <td>Illinois</td>\n",
       "      <td>United States of America</td>\n",
       "      <td>Illinois</td>\n",
       "      <td>Executive Leadership|Supervisor/Team Lead|Dev ...</td>\n",
       "      <td>Sometimes</td>\n",
       "    </tr>\n",
       "    <tr>\n",
       "      <td>5</td>\n",
       "      <td>0</td>\n",
       "      <td>More than 1000</td>\n",
       "      <td>1.0</td>\n",
       "      <td>NaN</td>\n",
       "      <td>Yes</td>\n",
       "      <td>I am not sure</td>\n",
       "      <td>No</td>\n",
       "      <td>Yes</td>\n",
       "      <td>Yes</td>\n",
       "      <td>Somewhat easy</td>\n",
       "      <td>...</td>\n",
       "      <td>Not applicable to me</td>\n",
       "      <td>Often</td>\n",
       "      <td>42</td>\n",
       "      <td>Male</td>\n",
       "      <td>United Kingdom</td>\n",
       "      <td>NaN</td>\n",
       "      <td>United Kingdom</td>\n",
       "      <td>NaN</td>\n",
       "      <td>DevOps/SysAdmin|Support|Back-end Developer|Fro...</td>\n",
       "      <td>Sometimes</td>\n",
       "    </tr>\n",
       "    <tr>\n",
       "      <td>6</td>\n",
       "      <td>0</td>\n",
       "      <td>26-100</td>\n",
       "      <td>1.0</td>\n",
       "      <td>NaN</td>\n",
       "      <td>I don't know</td>\n",
       "      <td>No</td>\n",
       "      <td>No</td>\n",
       "      <td>No</td>\n",
       "      <td>I don't know</td>\n",
       "      <td>Somewhat easy</td>\n",
       "      <td>...</td>\n",
       "      <td>Not applicable to me</td>\n",
       "      <td>Not applicable to me</td>\n",
       "      <td>30</td>\n",
       "      <td>M</td>\n",
       "      <td>United States of America</td>\n",
       "      <td>Tennessee</td>\n",
       "      <td>United States of America</td>\n",
       "      <td>Tennessee</td>\n",
       "      <td>Back-end Developer</td>\n",
       "      <td>Sometimes</td>\n",
       "    </tr>\n",
       "    <tr>\n",
       "      <td>7</td>\n",
       "      <td>0</td>\n",
       "      <td>More than 1000</td>\n",
       "      <td>1.0</td>\n",
       "      <td>NaN</td>\n",
       "      <td>Yes</td>\n",
       "      <td>Yes</td>\n",
       "      <td>No</td>\n",
       "      <td>Yes</td>\n",
       "      <td>Yes</td>\n",
       "      <td>Very easy</td>\n",
       "      <td>...</td>\n",
       "      <td>Sometimes</td>\n",
       "      <td>Often</td>\n",
       "      <td>37</td>\n",
       "      <td>female</td>\n",
       "      <td>United States of America</td>\n",
       "      <td>Virginia</td>\n",
       "      <td>United States of America</td>\n",
       "      <td>Virginia</td>\n",
       "      <td>Dev Evangelist/Advocate|Back-end Developer</td>\n",
       "      <td>Always</td>\n",
       "    </tr>\n",
       "    <tr>\n",
       "      <td>8</td>\n",
       "      <td>0</td>\n",
       "      <td>26-100</td>\n",
       "      <td>0.0</td>\n",
       "      <td>1.0</td>\n",
       "      <td>I don't know</td>\n",
       "      <td>No</td>\n",
       "      <td>No</td>\n",
       "      <td>No</td>\n",
       "      <td>I don't know</td>\n",
       "      <td>Very difficult</td>\n",
       "      <td>...</td>\n",
       "      <td>Rarely</td>\n",
       "      <td>Often</td>\n",
       "      <td>44</td>\n",
       "      <td>Female</td>\n",
       "      <td>United States of America</td>\n",
       "      <td>California</td>\n",
       "      <td>United States of America</td>\n",
       "      <td>California</td>\n",
       "      <td>Support|Back-end Developer|One-person shop</td>\n",
       "      <td>Sometimes</td>\n",
       "    </tr>\n",
       "    <tr>\n",
       "      <td>9</td>\n",
       "      <td>1</td>\n",
       "      <td>NaN</td>\n",
       "      <td>NaN</td>\n",
       "      <td>NaN</td>\n",
       "      <td>NaN</td>\n",
       "      <td>NaN</td>\n",
       "      <td>NaN</td>\n",
       "      <td>NaN</td>\n",
       "      <td>NaN</td>\n",
       "      <td>NaN</td>\n",
       "      <td>...</td>\n",
       "      <td>Rarely</td>\n",
       "      <td>Often</td>\n",
       "      <td>30</td>\n",
       "      <td>Male</td>\n",
       "      <td>United States of America</td>\n",
       "      <td>Kentucky</td>\n",
       "      <td>United States of America</td>\n",
       "      <td>Kentucky</td>\n",
       "      <td>One-person shop|Front-end Developer|Back-end D...</td>\n",
       "      <td>Always</td>\n",
       "    </tr>\n",
       "  </tbody>\n",
       "</table>\n",
       "<p>10 rows × 63 columns</p>\n",
       "</div>"
      ],
      "text/plain": [
       "   A               B    C    D                                E  \\\n",
       "0  0          26-100  1.0  NaN  Not eligible for coverage / N/A   \n",
       "1  0          25-Jun  1.0  NaN                               No   \n",
       "2  0          25-Jun  1.0  NaN                               No   \n",
       "3  1             NaN  NaN  NaN                              NaN   \n",
       "4  0          25-Jun  0.0  1.0                              Yes   \n",
       "5  0  More than 1000  1.0  NaN                              Yes   \n",
       "6  0          26-100  1.0  NaN                     I don't know   \n",
       "7  0  More than 1000  1.0  NaN                              Yes   \n",
       "8  0          26-100  0.0  1.0                     I don't know   \n",
       "9  1             NaN  NaN  NaN                              NaN   \n",
       "\n",
       "               F    G    H             I                           J  ...  \\\n",
       "0            NaN   No   No  I don't know                   Very easy  ...   \n",
       "1            Yes  Yes  Yes           Yes               Somewhat easy  ...   \n",
       "2            NaN   No   No  I don't know  Neither easy nor difficult  ...   \n",
       "3            NaN  NaN  NaN           NaN                         NaN  ...   \n",
       "4            Yes   No   No            No  Neither easy nor difficult  ...   \n",
       "5  I am not sure   No  Yes           Yes               Somewhat easy  ...   \n",
       "6             No   No   No  I don't know               Somewhat easy  ...   \n",
       "7            Yes   No  Yes           Yes                   Very easy  ...   \n",
       "8             No   No   No  I don't know              Very difficult  ...   \n",
       "9            NaN  NaN  NaN           NaN                         NaN  ...   \n",
       "\n",
       "                    BBB                   CCC DDD     EEE  \\\n",
       "0  Not applicable to me  Not applicable to me  39    Male   \n",
       "1                Rarely             Sometimes  29    male   \n",
       "2  Not applicable to me  Not applicable to me  38   Male    \n",
       "3             Sometimes             Sometimes  43    male   \n",
       "4             Sometimes             Sometimes  43  Female   \n",
       "5  Not applicable to me                 Often  42    Male   \n",
       "6  Not applicable to me  Not applicable to me  30       M   \n",
       "7             Sometimes                 Often  37  female   \n",
       "8                Rarely                 Often  44  Female   \n",
       "9                Rarely                 Often  30    Male   \n",
       "\n",
       "                        FFF         GGG                       HHH         III  \\\n",
       "0            United Kingdom         NaN            United Kingdom         NaN   \n",
       "1  United States of America    Illinois  United States of America    Illinois   \n",
       "2            United Kingdom         NaN            United Kingdom         NaN   \n",
       "3            United Kingdom         NaN            United Kingdom         NaN   \n",
       "4  United States of America    Illinois  United States of America    Illinois   \n",
       "5            United Kingdom         NaN            United Kingdom         NaN   \n",
       "6  United States of America   Tennessee  United States of America   Tennessee   \n",
       "7  United States of America    Virginia  United States of America    Virginia   \n",
       "8  United States of America  California  United States of America  California   \n",
       "9  United States of America    Kentucky  United States of America    Kentucky   \n",
       "\n",
       "                                                 JJJ        LLL  \n",
       "0                                 Back-end Developer  Sometimes  \n",
       "1             Back-end Developer|Front-end Developer      Never  \n",
       "2                                 Back-end Developer     Always  \n",
       "3                               Supervisor/Team Lead  Sometimes  \n",
       "4  Executive Leadership|Supervisor/Team Lead|Dev ...  Sometimes  \n",
       "5  DevOps/SysAdmin|Support|Back-end Developer|Fro...  Sometimes  \n",
       "6                                 Back-end Developer  Sometimes  \n",
       "7         Dev Evangelist/Advocate|Back-end Developer     Always  \n",
       "8         Support|Back-end Developer|One-person shop  Sometimes  \n",
       "9  One-person shop|Front-end Developer|Back-end D...     Always  \n",
       "\n",
       "[10 rows x 63 columns]"
      ]
     },
     "execution_count": 52,
     "metadata": {},
     "output_type": "execute_result"
    }
   ],
   "source": [
    "#look at first few rows of data\n",
    "data.head(10)"
   ]
  },
  {
   "cell_type": "code",
   "execution_count": 53,
   "metadata": {},
   "outputs": [
    {
     "data": {
      "text/plain": [
       "Index(['A', 'B', 'C', 'D', 'E', 'F', 'G', 'H', 'I', 'J', 'K', 'L', 'M', 'N',\n",
       "       'O', 'P', 'Q', 'R', 'S', 'T', 'U', 'V', 'W', 'X', 'Y', 'Z', 'AA', 'BB',\n",
       "       'CC', 'DD', 'EE', 'FF', 'GG', 'HH', 'II', 'JJ', 'KK', 'LL', 'MM', 'NN',\n",
       "       'OO', 'PP', 'QQ', 'RR', 'SS', 'TT', 'UU', 'VV', 'WW', 'XX', 'YY', 'ZZ',\n",
       "       'AAA', 'BBB', 'CCC', 'DDD', 'EEE', 'FFF', 'GGG', 'HHH', 'III', 'JJJ',\n",
       "       'LLL'],\n",
       "      dtype='object')"
      ]
     },
     "execution_count": 53,
     "metadata": {},
     "output_type": "execute_result"
    }
   ],
   "source": [
    "data.columns"
   ]
  },
  {
   "cell_type": "code",
   "execution_count": 30,
   "metadata": {},
   "outputs": [
    {
     "data": {
      "text/plain": [
       "(1433, 63)"
      ]
     },
     "execution_count": 30,
     "metadata": {},
     "output_type": "execute_result"
    }
   ],
   "source": [
    "#get dataframe shape\n",
    "data.shape"
   ]
  },
  {
   "cell_type": "code",
   "execution_count": 31,
   "metadata": {},
   "outputs": [],
   "source": [
    "#Lets look at the column datatypes\n",
    "data_types = data.dtypes"
   ]
  },
  {
   "cell_type": "code",
   "execution_count": 32,
   "metadata": {},
   "outputs": [
    {
     "data": {
      "text/plain": [
       "object     56\n",
       "int64       4\n",
       "float64     3\n",
       "dtype: int64"
      ]
     },
     "execution_count": 32,
     "metadata": {},
     "output_type": "execute_result"
    }
   ],
   "source": [
    "data_types.value_counts()"
   ]
  },
  {
   "cell_type": "code",
   "execution_count": 33,
   "metadata": {},
   "outputs": [
    {
     "data": {
      "text/html": [
       "<div>\n",
       "<style scoped>\n",
       "    .dataframe tbody tr th:only-of-type {\n",
       "        vertical-align: middle;\n",
       "    }\n",
       "\n",
       "    .dataframe tbody tr th {\n",
       "        vertical-align: top;\n",
       "    }\n",
       "\n",
       "    .dataframe thead tr th {\n",
       "        text-align: left;\n",
       "    }\n",
       "</style>\n",
       "<table border=\"1\" class=\"dataframe\">\n",
       "  <thead>\n",
       "    <tr>\n",
       "      <th></th>\n",
       "      <th>A</th>\n",
       "      <th>C</th>\n",
       "      <th>D</th>\n",
       "      <th>Q</th>\n",
       "      <th>Y</th>\n",
       "      <th>AAA</th>\n",
       "      <th>DDD</th>\n",
       "    </tr>\n",
       "  </thead>\n",
       "  <tbody>\n",
       "    <tr>\n",
       "      <td>count</td>\n",
       "      <td>1433.000000</td>\n",
       "      <td>1146.000000</td>\n",
       "      <td>263.000000</td>\n",
       "      <td>287.000000</td>\n",
       "      <td>1433.000000</td>\n",
       "      <td>1433.000000</td>\n",
       "      <td>1433.000000</td>\n",
       "    </tr>\n",
       "    <tr>\n",
       "      <td>mean</td>\n",
       "      <td>0.200279</td>\n",
       "      <td>0.770506</td>\n",
       "      <td>0.942966</td>\n",
       "      <td>0.644599</td>\n",
       "      <td>0.882066</td>\n",
       "      <td>0.585485</td>\n",
       "      <td>34.286113</td>\n",
       "    </tr>\n",
       "    <tr>\n",
       "      <td>std</td>\n",
       "      <td>0.400349</td>\n",
       "      <td>0.420691</td>\n",
       "      <td>0.232350</td>\n",
       "      <td>0.479471</td>\n",
       "      <td>0.322643</td>\n",
       "      <td>0.492810</td>\n",
       "      <td>11.290931</td>\n",
       "    </tr>\n",
       "    <tr>\n",
       "      <td>min</td>\n",
       "      <td>0.000000</td>\n",
       "      <td>0.000000</td>\n",
       "      <td>0.000000</td>\n",
       "      <td>0.000000</td>\n",
       "      <td>0.000000</td>\n",
       "      <td>0.000000</td>\n",
       "      <td>3.000000</td>\n",
       "    </tr>\n",
       "    <tr>\n",
       "      <td>25%</td>\n",
       "      <td>0.000000</td>\n",
       "      <td>1.000000</td>\n",
       "      <td>1.000000</td>\n",
       "      <td>0.000000</td>\n",
       "      <td>1.000000</td>\n",
       "      <td>0.000000</td>\n",
       "      <td>28.000000</td>\n",
       "    </tr>\n",
       "    <tr>\n",
       "      <td>50%</td>\n",
       "      <td>0.000000</td>\n",
       "      <td>1.000000</td>\n",
       "      <td>1.000000</td>\n",
       "      <td>1.000000</td>\n",
       "      <td>1.000000</td>\n",
       "      <td>1.000000</td>\n",
       "      <td>33.000000</td>\n",
       "    </tr>\n",
       "    <tr>\n",
       "      <td>75%</td>\n",
       "      <td>0.000000</td>\n",
       "      <td>1.000000</td>\n",
       "      <td>1.000000</td>\n",
       "      <td>1.000000</td>\n",
       "      <td>1.000000</td>\n",
       "      <td>1.000000</td>\n",
       "      <td>39.000000</td>\n",
       "    </tr>\n",
       "    <tr>\n",
       "      <td>max</td>\n",
       "      <td>1.000000</td>\n",
       "      <td>1.000000</td>\n",
       "      <td>1.000000</td>\n",
       "      <td>1.000000</td>\n",
       "      <td>1.000000</td>\n",
       "      <td>1.000000</td>\n",
       "      <td>323.000000</td>\n",
       "    </tr>\n",
       "  </tbody>\n",
       "</table>\n",
       "</div>"
      ],
      "text/plain": [
       "                 A            C           D           Q            Y  \\\n",
       "count  1433.000000  1146.000000  263.000000  287.000000  1433.000000   \n",
       "mean      0.200279     0.770506    0.942966    0.644599     0.882066   \n",
       "std       0.400349     0.420691    0.232350    0.479471     0.322643   \n",
       "min       0.000000     0.000000    0.000000    0.000000     0.000000   \n",
       "25%       0.000000     1.000000    1.000000    0.000000     1.000000   \n",
       "50%       0.000000     1.000000    1.000000    1.000000     1.000000   \n",
       "75%       0.000000     1.000000    1.000000    1.000000     1.000000   \n",
       "max       1.000000     1.000000    1.000000    1.000000     1.000000   \n",
       "\n",
       "               AAA          DDD  \n",
       "count  1433.000000  1433.000000  \n",
       "mean      0.585485    34.286113  \n",
       "std       0.492810    11.290931  \n",
       "min       0.000000     3.000000  \n",
       "25%       0.000000    28.000000  \n",
       "50%       1.000000    33.000000  \n",
       "75%       1.000000    39.000000  \n",
       "max       1.000000   323.000000  "
      ]
     },
     "execution_count": 33,
     "metadata": {},
     "output_type": "execute_result"
    }
   ],
   "source": [
    "#pick out which columns are numerical and see some simple statistics on those columns\n",
    "data.describe()"
   ]
  },
  {
   "cell_type": "markdown",
   "metadata": {},
   "source": [
    "Clearly all columns above are binary responses (1 for yes 0 for no) except the age column. I think all of these will be valuable in an unsupervised ML model"
   ]
  },
  {
   "cell_type": "code",
   "execution_count": 55,
   "metadata": {},
   "outputs": [
    {
     "name": "stdout",
     "output_type": "stream",
     "text": [
      "0    1146\n",
      "1     287\n",
      "Name: A, dtype: int64\n"
     ]
    },
    {
     "data": {
      "image/png": "[encoded data removed]",
      "text/plain": [
       "<Figure size 432x288 with 1 Axes>"
      ]
     },
     "metadata": {
      "needs_background": "light"
     },
     "output_type": "display_data"
    }
   ],
   "source": [
    "# bar chart - Are you self-employed?\n",
    "data['A'].value_counts().plot(kind='bar')\n",
    "print(data['A'].value_counts())"
   ]
  },
  {
   "cell_type": "code",
   "execution_count": 56,
   "metadata": {},
   "outputs": [
    {
     "name": "stdout",
     "output_type": "stream",
     "text": [
      "26-100            292\n",
      "More than 1000    256\n",
      "100-500           248\n",
      "25-Jun            210\n",
      "500-1000           80\n",
      "5-Jan              60\n",
      "Name: B, dtype: int64\n"
     ]
    },
    {
     "data": {
      "image/png": "[encoded data removed]",
      "text/plain": [
       "<Figure size 432x288 with 1 Axes>"
      ]
     },
     "metadata": {
      "needs_background": "light"
     },
     "output_type": "display_data"
    }
   ],
   "source": [
    "# bar chart - How many employees does your company or organization have?\n",
    "data['B'].value_counts().plot(kind='bar')\n",
    "print(data['B'].value_counts())"
   ]
  },
  {
   "cell_type": "markdown",
   "metadata": {},
   "source": [
    "Looks like we could investigate large companies vs small companies since the survery response from each group are comparable"
   ]
  },
  {
   "cell_type": "code",
   "execution_count": 57,
   "metadata": {},
   "outputs": [
    {
     "name": "stdout",
     "output_type": "stream",
     "text": [
      "1.0    883\n",
      "0.0    263\n",
      "Name: C, dtype: int64\n"
     ]
    },
    {
     "data": {
      "image/png": "[encoded data removed]",
      "text/plain": [
       "<Figure size 432x288 with 1 Axes>"
      ]
     },
     "metadata": {
      "needs_background": "light"
     },
     "output_type": "display_data"
    }
   ],
   "source": [
    "# bar chart - 'Is your employer primarily a tech company/organization?\n",
    "data['C'].value_counts().plot(kind='bar')\n",
    "print(data['C'].value_counts())"
   ]
  },
  {
   "cell_type": "code",
   "execution_count": 59,
   "metadata": {},
   "outputs": [
    {
     "name": "stdout",
     "output_type": "stream",
     "text": [
      "1.0    248\n",
      "0.0     15\n",
      "Name: D, dtype: int64\n"
     ]
    },
    {
     "data": {
      "image/png": "[encoded data removed]",
      "text/plain": [
       "<Figure size 432x288 with 1 Axes>"
      ]
     },
     "metadata": {
      "needs_background": "light"
     },
     "output_type": "display_data"
    }
   ],
   "source": [
    "# bar chart - 'Is your employer primarily a tech company/organization?\n",
    "# this question is linked to the \"Is your employer primarily a tech company/organization?\" question\n",
    "data['D'].value_counts().plot(kind='bar')\n",
    "print(data['D'].value_counts())"
   ]
  },
  {
   "cell_type": "code",
   "execution_count": 71,
   "metadata": {},
   "outputs": [
    {
     "name": "stdout",
     "output_type": "stream",
     "text": [
      "Yes      575\n",
      "No       531\n",
      "Maybe    327\n",
      "Name: VV, dtype: int64\n"
     ]
    },
    {
     "data": {
      "image/png": "[encoded data removed]",
      "text/plain": [
       "<Figure size 432x288 with 1 Axes>"
      ]
     },
     "metadata": {
      "needs_background": "light"
     },
     "output_type": "display_data"
    }
   ],
   "source": [
    "# bar chart - Do you currently have a mental health disorder?\n",
    "data['VV'].value_counts().plot(kind='bar')\n",
    "print(data['VV'].value_counts())"
   ]
  },
  {
   "cell_type": "markdown",
   "metadata": {},
   "source": [
    "Wow, pretty evenly distrubuted"
   ]
  },
  {
   "cell_type": "code",
   "execution_count": 72,
   "metadata": {},
   "outputs": [
    {
     "name": "stdout",
     "output_type": "stream",
     "text": [
      "Not applicable to me    557\n",
      "Sometimes               369\n",
      "Rarely                  322\n",
      "Never                   120\n",
      "Often                    65\n",
      "Name: BBB, dtype: int64\n"
     ]
    },
    {
     "data": {
      "image/png": "[encoded data removed]",
      "text/plain": [
       "<Figure size 432x288 with 1 Axes>"
      ]
     },
     "metadata": {
      "needs_background": "light"
     },
     "output_type": "display_data"
    }
   ],
   "source": [
    "# bar chart - If you have a mental health issue, do you feel that it interferes with your work when being treated effectively?\n",
    "data['BBB'].value_counts().plot(kind='bar')\n",
    "print(data['BBB'].value_counts())"
   ]
  },
  {
   "cell_type": "code",
   "execution_count": 73,
   "metadata": {},
   "outputs": [
    {
     "name": "stdout",
     "output_type": "stream",
     "text": [
      "Often                   538\n",
      "Not applicable to me    468\n",
      "Sometimes               363\n",
      "Rarely                   52\n",
      "Never                    12\n",
      "Name: CCC, dtype: int64\n"
     ]
    },
    {
     "data": {
      "image/png": "[encoded data removed]",
      "text/plain": [
       "<Figure size 432x288 with 1 Axes>"
      ]
     },
     "metadata": {
      "needs_background": "light"
     },
     "output_type": "display_data"
    }
   ],
   "source": [
    "# bar chart - If you have a mental health issue, do you feel that it interferes with your work when NOT being treated effectively?\n",
    "data['CCC'].value_counts().plot(kind='bar')\n",
    "print(data['CCC'].value_counts())"
   ]
  },
  {
   "cell_type": "code",
   "execution_count": 74,
   "metadata": {},
   "outputs": [
    {
     "name": "stdout",
     "output_type": "stream",
     "text": [
      "1    839\n",
      "0    594\n",
      "Name: AAA, dtype: int64\n"
     ]
    },
    {
     "data": {
      "image/png": "[encoded data removed]",
      "text/plain": [
       "<Figure size 432x288 with 1 Axes>"
      ]
     },
     "metadata": {
      "needs_background": "light"
     },
     "output_type": "display_data"
    }
   ],
   "source": [
    "# bar chart - Have you ever sought treatment for a mental health issue from a mental health professional?\n",
    "data['AAA'].value_counts().plot(kind='bar')\n",
    "print(data['AAA'].value_counts())"
   ]
  },
  {
   "cell_type": "code",
   "execution_count": 75,
   "metadata": {},
   "outputs": [
    {
     "name": "stdout",
     "output_type": "stream",
     "text": [
      "Maybe    487\n",
      "No       438\n",
      "Yes      221\n",
      "Name: K, dtype: int64\n"
     ]
    },
    {
     "data": {
      "image/png": "[encoded data removed]",
      "text/plain": [
       "<Figure size 432x288 with 1 Axes>"
      ]
     },
     "metadata": {
      "needs_background": "light"
     },
     "output_type": "display_data"
    }
   ],
   "source": [
    "# bar chart - Do you think that discussing a mental health disorder with your employer would have negative consequences?\n",
    "data['K'].value_counts().plot(kind='bar')\n",
    "print(data['K'].value_counts())"
   ]
  },
  {
   "cell_type": "code",
   "execution_count": 76,
   "metadata": {},
   "outputs": [
    {
     "name": "stdout",
     "output_type": "stream",
     "text": [
      "No              531\n",
      "I don't know    320\n",
      "Yes             295\n",
      "Name: H, dtype: int64\n"
     ]
    },
    {
     "data": {
      "image/png": "[encoded data removed]",
      "text/plain": [
       "<Figure size 432x288 with 1 Axes>"
      ]
     },
     "metadata": {
      "needs_background": "light"
     },
     "output_type": "display_data"
    }
   ],
   "source": [
    "# bar chart - Does your employer offer resources to learn more about mental health concerns and options for seeking help?\n",
    "data['H'].value_counts().plot(kind='bar')\n",
    "print(data['H'].value_counts())"
   ]
  },
  {
   "cell_type": "code",
   "execution_count": 77,
   "metadata": {},
   "outputs": [
    {
     "name": "stdout",
     "output_type": "stream",
     "text": [
      "No              813\n",
      "Yes             230\n",
      "I don't know    103\n",
      "Name: G, dtype: int64\n"
     ]
    },
    {
     "data": {
      "image/png": "[encoded data removed]",
      "text/plain": [
       "<Figure size 432x288 with 1 Axes>"
      ]
     },
     "metadata": {
      "needs_background": "light"
     },
     "output_type": "display_data"
    }
   ],
   "source": [
    "# bar chart - Has your employer ever formally discussed mental health (for example, as part of a wellness campaign or other official communication)?\n",
    "data['G'].value_counts().plot(kind='bar')\n",
    "print(data['G'].value_counts())"
   ]
  },
  {
   "cell_type": "code",
   "execution_count": 78,
   "metadata": {},
   "outputs": [
    {
     "name": "stdout",
     "output_type": "stream",
     "text": [
      "No     1048\n",
      "Yes      98\n",
      "Name: P, dtype: int64\n"
     ]
    },
    {
     "data": {
      "image/png": "[encoded data removed]",
      "text/plain": [
       "<Figure size 432x288 with 1 Axes>"
      ]
     },
     "metadata": {
      "needs_background": "light"
     },
     "output_type": "display_data"
    }
   ],
   "source": [
    "# bar chart - Have you heard of or observed negative consequences for co-workers who have been open about mental health issues in your workplace?\n",
    "data['P'].value_counts().plot(kind='bar')\n",
    "print(data['P'].value_counts())"
   ]
  },
  {
   "cell_type": "code",
   "execution_count": 69,
   "metadata": {},
   "outputs": [
    {
     "data": {
      "text/plain": [
       "<matplotlib.axes._subplots.AxesSubplot at 0x18f0a5ec988>"
      ]
     },
     "execution_count": 69,
     "metadata": {},
     "output_type": "execute_result"
    },
    {
     "data": {
      "image/png": "[encoded data removed]",
      "text/plain": [
       "<Figure size 1440x1080 with 1 Axes>"
      ]
     },
     "metadata": {
      "needs_background": "light"
     },
     "output_type": "display_data"
    }
   ],
   "source": [
    "#Trying to see which columns have too many missing values - \n",
    "#may want to write out to a file or code column names and make plot larger\n",
    "data.isna().sum().plot(kind='bar', figsize=(20,15))"
   ]
  },
  {
   "cell_type": "code",
   "execution_count": 70,
   "metadata": {},
   "outputs": [
    {
     "name": "stdout",
     "output_type": "stream",
     "text": [
      "Column with lowest amount of missings contains 0 missing values.\n",
      "Column with highest amount of missings contains 1289 missing values.\n"
     ]
    }
   ],
   "source": [
    "temp = data.isna().sum()\n",
    "print(\"Column with lowest amount of missings contains {} missing values.\".format(temp.min()))\n",
    "print(\"Column with highest amount of missings contains {} missing values.\".format(temp.max()))"
   ]
  },
  {
   "cell_type": "code",
   "execution_count": null,
   "metadata": {},
   "outputs": [],
   "source": []
  }
 ],
 "metadata": {
  "kernelspec": {
   "display_name": "Python 3",
   "language": "python",
   "name": "python3"
  },
  "language_info": {
   "codemirror_mode": {
    "name": "ipython",
    "version": 3
   },
   "file_extension": ".py",
   "mimetype": "text/x-python",
   "name": "python",
   "nbconvert_exporter": "python",
   "pygments_lexer": "ipython3",
   "version": "3.7.4"
  }
 },
 "nbformat": 4,
 "nbformat_minor": 2
}
