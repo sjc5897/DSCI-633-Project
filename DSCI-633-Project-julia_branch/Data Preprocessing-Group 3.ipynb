{
 "cells": [
  {
   "cell_type": "code",
   "execution_count": 1,
   "metadata": {
    "pycharm": {
     "name": "#%%\n"
    }
   },
   "outputs": [],
   "source": [
    "#Julia Branch\n",
    "\n",
    "import pandas as pd\n",
    "import numpy as np"
   ]
  },
  {
   "cell_type": "code",
   "execution_count": 2,
   "metadata": {},
   "outputs": [],
   "source": [
    "#Load data\n",
    "mental_health_data_filename = 'mental_health_data_true.csv'\n",
    "mental_health_df= pd.read_csv(mental_health_data_filename)"
   ]
  },
  {
   "cell_type": "code",
   "execution_count": 3,
   "metadata": {},
   "outputs": [
    {
     "name": "stdout",
     "output_type": "stream",
     "text": [
      "Records before drop =  1433\n",
      "Records after drop =  1146\n"
     ]
    }
   ],
   "source": [
    "#Remove self employed records\n",
    "x,y = mental_health_df.shape\n",
    "print(\"Records before drop = \",x)\n",
    "mental_health_df.drop(mental_health_df[mental_health_df['A'] == 1].index, inplace = True)\n",
    "x,y = mental_health_df.shape\n",
    "print(\"Records after drop = \",x)"
   ]
  },
  {
   "cell_type": "code",
   "execution_count": 4,
   "metadata": {},
   "outputs": [
    {
     "name": "stdout",
     "output_type": "stream",
     "text": [
      "Columns before drop =  63\n",
      "Columns after drop =  45\n"
     ]
    }
   ],
   "source": [
    "#Drop columns\n",
    "x,y = mental_health_df.shape\n",
    "print(\"Columns before drop = \",y)\n",
    "mental_health_df = mental_health_df.drop(columns = ['T','Q', 'R', 'S', 'U', 'V', 'W', 'X', 'A', 'D', 'LL', 'NN', 'WW', 'XX', 'ZZ', 'JJJ', 'GGG', 'III'])\n",
    "x,y = mental_health_df.shape\n",
    "print(\"Columns after drop = \",y)"
   ]
  },
  {
   "cell_type": "code",
   "execution_count": 5,
   "metadata": {},
   "outputs": [],
   "source": [
    "##No longer need this code block since we dropped columns WW and XX\n",
    "\n",
    "##Combine WW and XX\n",
    "#mental_health_df['WW'] = np.where(mental_health_df['WW'] != mental_health_df['WW'], mental_health_df['XX'], mental_health_df['WW'])\n",
    "\n",
    "##Drop column XX now that is is combined\n",
    "#x,y = mental_health_df.shape\n",
    "#print(\"Columns before drop = \",y)\n",
    "#mental_health_df = mental_health_df.drop(columns = ['XX'])\n",
    "#x,y = mental_health_df.shape\n",
    "#print(\"Columns after drop = \",y)\n",
    "\n",
    "##Handle updated column WW missing values\n",
    "##if no value due to \"no\" entered beforehand:\n",
    "#mental_health_df['WW'] = np.where((mental_health_df['WW'] != mental_health_df['WW']) & (mental_health_df['VV'] == 'No'), 'N/A', mental_health_df['WW'])\n",
    "##if no value because skipped:\n",
    "#mental_health_df['WW'] = np.where(mental_health_df['WW'] != mental_health_df['WW'], 'None', mental_health_df['WW'])\n",
    "\n",
    "##Column XX, WW, ZZ codify non-standard values as other\n",
    "#answerString = ('Anxiety Disorder (Generalized, Social, Phobia, etc); Mood Disorder (Depression, Bipolar Disorder, etc); Psychotic Disorder (Schizophrenia, Schizoaffective, etc); Eating Disorder (Anorexia, Bulimia, etc); Attention Deficit Hyperactivity Disorder; Personality Disorder (Borderline, Antisocial, Paranoid, etc); Obsessive-Compulsive Disorder; Post-traumatic Stress Disorder; Stress Response Syndromes; Dissociative Disorder; Substance Use Disorder; Addictive Disorder; Other; N/A; None')\n",
    "#answerList = answerString.split('; ')\n",
    "\n",
    "#def replacement(col):\n",
    "#    colList = col.split('|')\n",
    "   \n",
    "#    for item in range(len(colList)):\n",
    "#        if colList[item] in answerList:\n",
    "#            colList[item] = colList[item]\n",
    "#        else: \n",
    "#            colList[item] = 'Other'\n",
    "           \n",
    "#   return '|'.join(colList)\n",
    "\n",
    "#mental_health_df['WW'] = mental_health_df['WW'].apply(replacement)\n",
    "\n",
    "##Need to replace Nan values in col ZZ before running the \"replacement\" function\n",
    "##if no value due to \"no\" entered beforehand:\n",
    "#mental_health_df['ZZ'] = np.where((mental_health_df['ZZ'] != mental_health_df['ZZ']) & (mental_health_df['YY'] == 'No'), 'N/A', mental_health_df['ZZ'])\n",
    "##if no value because skipped:\n",
    "#mental_health_df['ZZ'] = np.where(mental_health_df['ZZ'] != mental_health_df['ZZ'], 'None', mental_health_df['ZZ'])\n",
    "\n",
    "#mental_health_df['ZZ'] = mental_health_df['ZZ'].apply(replacement)"
   ]
  },
  {
   "cell_type": "code",
   "execution_count": 6,
   "metadata": {},
   "outputs": [],
   "source": [
    "#Replace General Missing Values\n",
    "\n",
    "no_Entry = {'SS': 'No Entry', 'GGG': 'No Entry', 'III': 'No Entry', 'EEE': 'No Entry', 'RR': 'No Entry', 'F': 'No Entry'}\n",
    "mental_health_df = mental_health_df.fillna(value = no_Entry)\n",
    "\n",
    "not_App = {'Z': 'Not Applicable', 'AA': 'Not Applicable', 'BB': 'Not Applicable','CC': 'Not Applicable','DD': 'Not Applicable','EE': 'Not Applicable', 'FF': 'Not Applicable','GG': 'Not Applicable', 'HH': 'Not Applicable', 'II': 'Not Applicable', 'JJ': 'Not Applicable', 'Y': 'Not Applicable'}\n",
    "mental_health_df = mental_health_df.fillna(value = not_App)"
   ]
  },
  {
   "cell_type": "code",
   "execution_count": 7,
   "metadata": {},
   "outputs": [],
   "source": [
    "#Handle Gender Somehow\n",
    "# This var makes my life a little easier\n",
    "# TODO: gender_col_id may change after integration, double check this\n",
    "gender_col_id = \"EEE\"\n",
    "\n",
    "# for this method to work better, strip leading and ending whitespace\n",
    "mental_health_df[gender_col_id] = mental_health_df[gender_col_id].str.strip()\n",
    "\n",
    "# regex explanation:\n",
    "# (?i) - case insensitive, looks for female or woman or f\n",
    "female_regex_pattern = r'(?i).*(female|woman|f).*'\n",
    "\n",
    "# regex explanation:\n",
    "# (?i) - case insensitive, looks for male or man or m\n",
    "male_regex_pattern = r'(?i).*(male|man|m).*'\n",
    "\n",
    "# regex explanation:\n",
    "# any value, not F or M gets O\n",
    "other_regex_pattern = r'^(?!M).*^(?!F).*'\n",
    "\n",
    "# replace female\n",
    "mental_health_df[gender_col_id].replace(to_replace=female_regex_pattern, value = 'F',\n",
    "                                        inplace = True, regex= True)\n",
    "# replace male\n",
    "mental_health_df[gender_col_id].replace(to_replace=male_regex_pattern, value = 'M',\n",
    "                                        inplace = True, regex= True)\n",
    "\n",
    "# replace other\n",
    "mental_health_df[gender_col_id].replace(to_replace=other_regex_pattern, value = 'O',\n",
    "                                        inplace = True, regex= True)\n",
    "\n",
    "#fill na spaces with other.\n",
    "mental_health_df[gender_col_id] = mental_health_df[gender_col_id].fillna(value=\"O\")# This var makes my life a little easier\n",
    "# TODO: gender_col_id may change after integration, double check this\n",
    "gender_col_id = \"EEE\"\n",
    "\n",
    "# for this method to work better, strip leading and ending whitespace\n",
    "mental_health_df[gender_col_id] = mental_health_df[gender_col_id].str.strip()\n",
    "\n",
    "# regex explanation:\n",
    "# (?i) - case insensitive, looks for female or woman or f\n",
    "female_regex_pattern = r'(?i).*(female|woman|f).*'\n",
    "\n",
    "# regex explanation:\n",
    "# (?i) - case insensitive, looks for male or man or m\n",
    "male_regex_pattern = r'(?i).*(male|man|m).*'\n",
    "\n",
    "# regex explanation:\n",
    "# any value, not F or M gets O\n",
    "other_regex_pattern = r'^(?!M).*^(?!F).*'\n",
    "\n",
    "# replace female\n",
    "mental_health_df[gender_col_id].replace(to_replace=female_regex_pattern, value = 'F',\n",
    "                                        inplace = True, regex= True)\n",
    "# replace male\n",
    "mental_health_df[gender_col_id].replace(to_replace=male_regex_pattern, value = 'M',\n",
    "                                        inplace = True, regex= True)\n",
    "\n",
    "# replace other\n",
    "mental_health_df[gender_col_id].replace(to_replace=other_regex_pattern, value = 'O',\n",
    "                                        inplace = True, regex= True)\n",
    "\n",
    "#fill na spaces with other.\n",
    "mental_health_df[gender_col_id] = mental_health_df[gender_col_id].fillna(value=\"O\")"
   ]
  },
  {
   "cell_type": "code",
   "execution_count": 8,
   "metadata": {},
   "outputs": [
    {
     "data": {
      "text/plain": [
       "M    847\n",
       "F    280\n",
       "O     19\n",
       "Name: EEE, dtype: int64"
      ]
     },
     "execution_count": 8,
     "metadata": {},
     "output_type": "execute_result"
    }
   ],
   "source": [
    "mental_health_df['EEE'].value_counts()"
   ]
  },
  {
   "cell_type": "code",
   "execution_count": 9,
   "metadata": {},
   "outputs": [],
   "source": [
    "#Find IQR of age group for removal of extreme outliers\n",
    "Q1 = mental_health_df['DDD'].quantile(.25)\n",
    "Q3 = mental_health_df['DDD'].quantile(.75)\n",
    "IQR = Q3-Q1"
   ]
  },
  {
   "cell_type": "code",
   "execution_count": 10,
   "metadata": {},
   "outputs": [
    {
     "data": {
      "text/plain": [
       "98.0"
      ]
     },
     "execution_count": 10,
     "metadata": {},
     "output_type": "execute_result"
    }
   ],
   "source": [
    "Q3+6*IQR"
   ]
  },
  {
   "cell_type": "code",
   "execution_count": 11,
   "metadata": {},
   "outputs": [
    {
     "name": "stdout",
     "output_type": "stream",
     "text": [
      "Records before drop =  1146\n",
      "Records after drop =  1143\n"
     ]
    }
   ],
   "source": [
    "#Remove extreme oultiers in the age column\n",
    "x,y = mental_health_df.shape\n",
    "print(\"Records before drop = \",x)\n",
    "\n",
    "mental_health_df.drop(mental_health_df[(mental_health_df['DDD'] > Q3+6*IQR) | (mental_health_df['DDD'] < 15)].index, axis = 0, inplace=True)\n",
    "\n",
    "x,y = mental_health_df.shape\n",
    "print(\"Records after drop = \",x)"
   ]
  },
  {
   "cell_type": "code",
   "execution_count": 12,
   "metadata": {},
   "outputs": [],
   "source": [
    "#Discretize age data into bins so we can use data in Apriori association rule mining\n",
    "mental_health_df['DDD'] = pd.cut(mental_health_df[\"DDD\"], bins=[0, 25, 35, 45, 100], labels=[\"Early Career\", \"Lower Mid Career\", \"Upper Mid Career\", \"Late Career\"])"
   ]
  },
  {
   "cell_type": "code",
   "execution_count": 13,
   "metadata": {},
   "outputs": [],
   "source": [
    "#Cast all binary columns to boolean type so we can use data in Apriori association rule mining\n",
    "mental_health_df['C'] = mental_health_df['C'].astype('bool')\n",
    "mental_health_df['Y'] = mental_health_df['Y'].astype('bool')\n",
    "mental_health_df['AAA'] = mental_health_df['AAA'].astype('bool')"
   ]
  },
  {
   "cell_type": "code",
   "execution_count": 14,
   "metadata": {},
   "outputs": [],
   "source": [
    "#Update index 183, col GG answer from 0 to Not Applicable\n",
    "mental_health_df.at[183, 'GG'] = 'Not Applicable'\n"
   ]
  },
  {
   "cell_type": "code",
   "execution_count": 15,
   "metadata": {},
   "outputs": [],
   "source": [
    "mental_health_df.to_csv('mental_health_CLEAN_rev2.csv', index=False)"
   ]
  },
  {
   "cell_type": "code",
   "execution_count": null,
   "metadata": {},
   "outputs": [],
   "source": []
  }
 ],
 "metadata": {
  "kernelspec": {
   "display_name": "Python 3",
   "language": "python",
   "name": "python3"
  },
  "language_info": {
   "codemirror_mode": {
    "name": "ipython",
    "version": 3
   },
   "file_extension": ".py",
   "mimetype": "text/x-python",
   "name": "python",
   "nbconvert_exporter": "python",
   "pygments_lexer": "ipython3",
   "version": "3.7.4"
  }
 },
 "nbformat": 4,
 "nbformat_minor": 2
}
