{
 "cells": [
  {
   "cell_type": "code",
   "execution_count": 319,
   "metadata": {},
   "outputs": [],
   "source": [
    "#Steve Branch\n",
    "\n",
    "import pandas as pd\n",
    "import numpy as np"
   ]
  },
  {
   "cell_type": "code",
   "execution_count": 320,
   "outputs": [],
   "source": [
    "#Load the data file\n",
    "mental_health_data_filename = 'mental_health_data_true.csv'\n",
    "mental_health_df= pd.read_csv(mental_health_data_filename)\n",
    "\n",
    "question_cross_ref_filename = 'mental_health_header_cross_ref.csv'\n",
    "question_cross_ref_df = pd.read_csv(question_cross_ref_filename)"
   ],
   "metadata": {
    "collapsed": false,
    "pycharm": {
     "name": "#%%\n"
    }
   }
  },
  {
   "cell_type": "code",
   "execution_count": 321,
   "outputs": [
    {
     "data": {
      "text/plain": "(1146, 63)"
     },
     "execution_count": 321,
     "metadata": {},
     "output_type": "execute_result"
    }
   ],
   "source": [
    "# Remove Self Employed Records from the Data\n",
    "\n",
    "# Two ways to do this: Method 1:\n",
    "# Set the Dataframe equal to record where data['A'] == 0\n",
    "# data = data[data['A'] == 0]\n",
    "# data.shape\n",
    "\n",
    "# Method 2:\n",
    "# Actually drop the records from the data frame using frop\n",
    "mental_health_df.drop(mental_health_df[mental_health_df['A'] == 1].index, inplace = True)\n",
    "mental_health_df.shape"
   ],
   "metadata": {
    "collapsed": false,
    "pycharm": {
     "name": "#%%\n"
    }
   }
  },
  {
   "cell_type": "code",
   "execution_count": 322,
   "metadata": {},
   "outputs": [],
   "source": [
    "#Drop columns"
   ]
  },
  {
   "cell_type": "code",
   "execution_count": 323,
   "metadata": {},
   "outputs": [],
   "source": [
    "#Combine WW and XX"
   ]
  },
  {
   "cell_type": "code",
   "execution_count": 324,
   "metadata": {},
   "outputs": [],
   "source": [
    "#Column XX and WW missing values"
   ]
  },
  {
   "cell_type": "code",
   "execution_count": 325,
   "metadata": {},
   "outputs": [],
   "source": [
    "#Column XX. WW, ZZ codify non-standard values as other"
   ]
  },
  {
   "cell_type": "code",
   "execution_count": 326,
   "metadata": {},
   "outputs": [],
   "source": [
    "#Replace General Missing Values"
   ]
  },
  {
   "cell_type": "code",
   "execution_count": 327,
   "metadata": {},
   "outputs": [
    {
     "name": "stdout",
     "output_type": "stream",
     "text": [
      "['M' 'F' 'OI identiFy as F.' 'OBigender' 'Onon-binary'\n",
      " 'F assigned at birth' 'FM' 'OCis F' 'OTransitioned, M2F'\n",
      " 'OGenderFluid (born F)' 'OOther/TransFeMinine' 'F or Multi-Gender FeMMe'\n",
      " 'F/F' 'OCis M' 'M.' 'OAndrogynous' 'M 9:1 F, roughly' nan 'M (cis)'\n",
      " 'OOther' 'Onb Masculine' 'OCisgender F' 'OSex is M'\n",
      " 'Onone oF your business' 'Ogenderqueer' 'Ocis M' 'OHuM' 'OGenderFluid'\n",
      " 'OEnby' 'Ogenderqueer F' 'OQueer' 'OAgender' 'ODude' 'Mail'\n",
      " 'M/genderqueer' 'FeM' 'ONonbinary'\n",
      " 'F (props For Making this a FreeForM Field, though)' 'M (trans, FtM)'\n",
      " 'OCis-F' 'OGenderqueer' 'Ocisdude' 'OGenderFlux deMi-girl'\n",
      " 'F-bodied; no Feelings about gender' 'OTransgender F']\n"
     ]
    }
   ],
   "source": [
    "#Handle Gender Somehow\n",
    "# This var makes my life a little easier\n",
    "# TODO: gender_col_id may change after integration, double check this\n",
    "gender_col_id = \"EEE\"\n",
    "\n",
    "# for this method to work beter, strip leading and ending whitespace\n",
    "mental_health_df[gender_col_id] = mental_health_df[gender_col_id].str.strip()\n",
    "\n",
    "\n",
    "# regex explanation:\n",
    "# (?i) - case insensitive, looks for female or woman or f\n",
    "female_regex_pattern = r'(?i)(female|woman|f)'\n",
    "# regex explanation:\n",
    "# (?i) - case insensitive, looks for male or man or m\n",
    "male_regex_pattern = r'(?i)(male|man|m)'\n",
    "\n",
    "# regex explanation:\n",
    "# any value, not F or M gets O\n",
    "other_regex_pattern = r'^(?!M)^(?!F)'\n",
    "\n",
    "# replace female\n",
    "mental_health_df[gender_col_id].replace(to_replace=female_regex_pattern, value = 'F',\n",
    "                                        inplace = True, regex= True)\n",
    "# replace male\n",
    "mental_health_df[gender_col_id].replace(to_replace=male_regex_pattern, value = 'M',\n",
    "                                        inplace = True, regex= True)\n",
    "# # replace other\n",
    "mental_health_df[gender_col_id].replace(to_replace=other_regex_pattern, value = 'O',\n",
    "                                        inplace = True, regex= True)\n",
    "\n",
    "print(mental_health_df[gender_col_id].unique())\n",
    "#"
   ]
  },
  {
   "cell_type": "code",
   "execution_count": 328,
   "metadata": {},
   "outputs": [],
   "source": [
    "#Age Outliers"
   ]
  },
  {
   "cell_type": "code",
   "execution_count": 329,
   "metadata": {},
   "outputs": [],
   "source": [
    "#Encode yes,no,ect values "
   ]
  },
  {
   "cell_type": "code",
   "execution_count": 330,
   "metadata": {},
   "outputs": [],
   "source": [
    "# TODO: We probably should write the data to a clean csv file\n",
    "# DO NOT OVER WRITE EXISTING CSV, it should be written to a new file\n"
   ]
  }
 ],
 "metadata": {
  "kernelspec": {
   "display_name": "Python 3",
   "language": "python",
   "name": "python3"
  },
  "language_info": {
   "codemirror_mode": {
    "name": "ipython",
    "version": 3
   },
   "file_extension": ".py",
   "mimetype": "text/x-python",
   "name": "python",
   "nbconvert_exporter": "python",
   "pygments_lexer": "ipython3",
   "version": "3.7.4"
  }
 },
 "nbformat": 4,
 "nbformat_minor": 2
}